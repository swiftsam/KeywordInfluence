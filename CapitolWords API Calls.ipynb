{
 "metadata": {
  "name": "",
  "signature": "sha256:dc363e9fc818d3c21c211075eb934879c06a118bc1fb08a701bb51ba82fd0da3"
 },
 "nbformat": 3,
 "nbformat_minor": 0,
 "worksheets": [
  {
   "cells": [
    {
     "cell_type": "code",
     "collapsed": false,
     "input": [
      "import urllib3\n",
      "import json\n",
      "http = urllib3.PoolManager(10, timeout=1)"
     ],
     "language": "python",
     "metadata": {},
     "outputs": [],
     "prompt_number": 10
    },
    {
     "cell_type": "code",
     "collapsed": false,
     "input": [
      "# Capitol Words API root for phrases by entity\n",
      "endpoint =  'http://capitolwords.org/api/1/phrases.json?'\n",
      "    \n",
      "# query parameters\n",
      "query_params = {'apikey': '05ccd18a42b6443c908952f80fa17c19',\n",
      "                'n' : 2,\n",
      "                'sort' : 'count desc',\n",
      "                'entity_type':'legislator',\n",
      "                'entity_value': 'O000167'}\n",
      "\n",
      "response = http.request('GET', endpoint + urllib3.request.urlencode(query_params))\n",
      "response = json.loads(response.data)"
     ],
     "language": "python",
     "metadata": {},
     "outputs": [],
     "prompt_number": 11
    },
    {
     "cell_type": "code",
     "collapsed": false,
     "input": [
      "for obv in response:\n",
      "    print str(obv['count']) + ' ' + obv['ngram']"
     ],
     "language": "python",
     "metadata": {},
     "outputs": [
      {
       "output_type": "stream",
       "stream": "stdout",
       "text": [
        "1701 of the\n",
        "1200 in the\n",
        "781 to the\n",
        "623 it is\n",
        "508 and the\n",
        "463 for the\n",
        "431 on the\n",
        "419 mr. president\n",
        "396 that the\n",
        "378 the united\n",
        "357 united states\n",
        "327 to be\n",
        "325 i am\n",
        "317 that is\n",
        "316 we have\n",
        "314 by the\n",
        "304 is a\n",
        "286 we are\n",
        "283 president i\n",
        "257 this bill\n",
        "257 at the\n",
        "255 of our\n",
        "255 as a\n",
        "248 that we\n",
        "245 the senate\n",
        "243 with the\n",
        "235 have been\n",
        "226 of this\n",
        "224 in this\n",
        "222 of a\n",
        "219 and i\n",
        "218 is not\n",
        "210 in a\n",
        "201 is the\n",
        "198 my colleagues\n",
        "197 more than\n",
        "193 we can\n",
        "192 the bill\n",
        "192 from the\n",
        "188 we must\n",
        "183 this is\n",
        "181 will be\n",
        "177 have to\n",
        "172 has been\n",
        "172 i have\n",
        "170 the american\n",
        "161 to make\n",
        "153 health care\n",
        "152 there is\n",
        "150 the world\n",
        "150 need to\n",
        "149 and to\n",
        "147 to do\n",
        "143 to a\n",
        "141 the same\n",
        "135 as the\n",
        "134 the u.s.\n",
        "131 this amendment\n",
        "131 they are\n",
        "131 for a\n",
        "130 there are\n",
        "129 one of\n",
        "127 in our\n",
        "126 in iraq\n",
        "126 going to\n",
        "125 the most\n",
        "124 i rise\n",
        "122 are not\n",
        "121 percent of\n",
        "121 on this\n",
        "120 we should\n",
        "120 i ask\n",
        "118 american people\n",
        "116 the department\n",
        "115 do not\n",
        "115 to support\n",
        "115 over the\n",
        "115 of these\n",
        "114 about the\n",
        "112 and a\n",
        "110 to help\n",
        "110 of their\n",
        "110 and we\n",
        "110 all of\n",
        "109 should be\n",
        "109 and that\n",
        "108 we need\n",
        "107 act of\n",
        "107 if we\n",
        "107 the president\n",
        "106 of us\n",
        "106 would be\n",
        "106 have a\n",
        "106 want to\n",
        "105 as well\n",
        "105 able to\n",
        "105 the country\n",
        "104 senator from\n",
        "103 a new\n",
        "103 ensure that\n"
       ]
      }
     ],
     "prompt_number": 8
    },
    {
     "cell_type": "code",
     "collapsed": false,
     "input": [
      "# Capitol Words API root for text\n",
      "endpoint =  'http://capitolwords.org/api/1/text.json?'\n",
      "\n",
      "# query parameters\n",
      "query_params = {'apikey': '05ccd18a42b6443c908952f80fa17c19',\n",
      "                'sort': 'id asc',\n",
      "                'page': 1}\n",
      "\n",
      "# call API\n",
      "response = http.request('GET', endpoint + urllib3.request.urlencode(query_params))\n",
      "results = json.loads(response.data)['results']\n",
      "print len(results)\n",
      "results[0]\n"
     ],
     "language": "python",
     "metadata": {},
     "outputs": [
      {
       "output_type": "stream",
       "stream": "stderr",
       "text": [
        "WARNING:urllib3.connectionpool:Retrying (3 attempts remain) after connection broken by 'timeout('timed out',)': /api/1/text.json?sort=id+asc&apikey=05ccd18a42b6443c908952f80fa17c19&page=1\n"
       ]
      },
      {
       "output_type": "stream",
       "stream": "stderr",
       "text": [
        "WARNING:urllib3.connectionpool:Retrying (2 attempts remain) after connection broken by 'ConnectTimeoutError(<urllib3.connectionpool.HTTPConnectionPool object at 0x2de59d0>, 'Connection to capitolwords.org timed out. (connect timeout=1)')': /api/1/text.json?sort=id+asc&apikey=05ccd18a42b6443c908952f80fa17c19&page=1\n"
       ]
      },
      {
       "output_type": "stream",
       "stream": "stderr",
       "text": [
        "WARNING:urllib3.connectionpool:Retrying (1 attempts remain) after connection broken by 'ConnectTimeoutError(<urllib3.connectionpool.HTTPConnectionPool object at 0x2de59d0>, 'Connection to capitolwords.org timed out. (connect timeout=1)')': /api/1/text.json?sort=id+asc&apikey=05ccd18a42b6443c908952f80fa17c19&page=1\n"
       ]
      },
      {
       "ename": "MaxRetryError",
       "evalue": "HTTPConnectionPool(host='capitolwords.org', port=80): Max retries exceeded with url: /api/1/text.json?sort=id+asc&apikey=05ccd18a42b6443c908952f80fa17c19&page=1 (Caused by <class 'socket.timeout'>: timed out)",
       "output_type": "pyerr",
       "traceback": [
        "\u001b[1;31m---------------------------------------------------------------------------\u001b[0m\n\u001b[1;31mMaxRetryError\u001b[0m                             Traceback (most recent call last)",
        "\u001b[1;32m<ipython-input-9-d8c8d900cda2>\u001b[0m in \u001b[0;36m<module>\u001b[1;34m()\u001b[0m\n\u001b[0;32m      8\u001b[0m \u001b[1;33m\u001b[0m\u001b[0m\n\u001b[0;32m      9\u001b[0m \u001b[1;31m# call API\u001b[0m\u001b[1;33m\u001b[0m\u001b[1;33m\u001b[0m\u001b[0m\n\u001b[1;32m---> 10\u001b[1;33m \u001b[0mresponse\u001b[0m \u001b[1;33m=\u001b[0m \u001b[0mhttp\u001b[0m\u001b[1;33m.\u001b[0m\u001b[0mrequest\u001b[0m\u001b[1;33m(\u001b[0m\u001b[1;34m'GET'\u001b[0m\u001b[1;33m,\u001b[0m \u001b[0mendpoint\u001b[0m \u001b[1;33m+\u001b[0m \u001b[0murllib3\u001b[0m\u001b[1;33m.\u001b[0m\u001b[0mrequest\u001b[0m\u001b[1;33m.\u001b[0m\u001b[0murlencode\u001b[0m\u001b[1;33m(\u001b[0m\u001b[0mquery_params\u001b[0m\u001b[1;33m)\u001b[0m\u001b[1;33m)\u001b[0m\u001b[1;33m\u001b[0m\u001b[0m\n\u001b[0m\u001b[0;32m     11\u001b[0m \u001b[0mresults\u001b[0m \u001b[1;33m=\u001b[0m \u001b[0mjson\u001b[0m\u001b[1;33m.\u001b[0m\u001b[0mloads\u001b[0m\u001b[1;33m(\u001b[0m\u001b[0mresponse\u001b[0m\u001b[1;33m.\u001b[0m\u001b[0mdata\u001b[0m\u001b[1;33m)\u001b[0m\u001b[1;33m[\u001b[0m\u001b[1;34m'results'\u001b[0m\u001b[1;33m]\u001b[0m\u001b[1;33m\u001b[0m\u001b[0m\n\u001b[0;32m     12\u001b[0m \u001b[1;32mprint\u001b[0m \u001b[0mlen\u001b[0m\u001b[1;33m(\u001b[0m\u001b[0mresults\u001b[0m\u001b[1;33m)\u001b[0m\u001b[1;33m\u001b[0m\u001b[0m\n",
        "\u001b[1;32m/home/sam/local-python/2.7.6/py-init-env/lib/python2.7/site-packages/urllib3/request.pyc\u001b[0m in \u001b[0;36mrequest\u001b[1;34m(self, method, url, fields, headers, **urlopen_kw)\u001b[0m\n\u001b[0;32m     72\u001b[0m             return self.request_encode_url(method, url, fields=fields,\n\u001b[0;32m     73\u001b[0m                                             \u001b[0mheaders\u001b[0m\u001b[1;33m=\u001b[0m\u001b[0mheaders\u001b[0m\u001b[1;33m,\u001b[0m\u001b[1;33m\u001b[0m\u001b[0m\n\u001b[1;32m---> 74\u001b[1;33m                                             **urlopen_kw)\n\u001b[0m\u001b[0;32m     75\u001b[0m         \u001b[1;32melse\u001b[0m\u001b[1;33m:\u001b[0m\u001b[1;33m\u001b[0m\u001b[0m\n\u001b[0;32m     76\u001b[0m             return self.request_encode_body(method, url, fields=fields,\n",
        "\u001b[1;32m/home/sam/local-python/2.7.6/py-init-env/lib/python2.7/site-packages/urllib3/request.pyc\u001b[0m in \u001b[0;36mrequest_encode_url\u001b[1;34m(self, method, url, fields, **urlopen_kw)\u001b[0m\n\u001b[0;32m     85\u001b[0m         \u001b[1;32mif\u001b[0m \u001b[0mfields\u001b[0m\u001b[1;33m:\u001b[0m\u001b[1;33m\u001b[0m\u001b[0m\n\u001b[0;32m     86\u001b[0m             \u001b[0murl\u001b[0m \u001b[1;33m+=\u001b[0m \u001b[1;34m'?'\u001b[0m \u001b[1;33m+\u001b[0m \u001b[0murlencode\u001b[0m\u001b[1;33m(\u001b[0m\u001b[0mfields\u001b[0m\u001b[1;33m)\u001b[0m\u001b[1;33m\u001b[0m\u001b[0m\n\u001b[1;32m---> 87\u001b[1;33m         \u001b[1;32mreturn\u001b[0m \u001b[0mself\u001b[0m\u001b[1;33m.\u001b[0m\u001b[0murlopen\u001b[0m\u001b[1;33m(\u001b[0m\u001b[0mmethod\u001b[0m\u001b[1;33m,\u001b[0m \u001b[0murl\u001b[0m\u001b[1;33m,\u001b[0m \u001b[1;33m**\u001b[0m\u001b[0murlopen_kw\u001b[0m\u001b[1;33m)\u001b[0m\u001b[1;33m\u001b[0m\u001b[0m\n\u001b[0m\u001b[0;32m     88\u001b[0m \u001b[1;33m\u001b[0m\u001b[0m\n\u001b[0;32m     89\u001b[0m     def request_encode_body(self, method, url, fields=None, headers=None,\n",
        "\u001b[1;32m/home/sam/local-python/2.7.6/py-init-env/lib/python2.7/site-packages/urllib3/poolmanager.pyc\u001b[0m in \u001b[0;36murlopen\u001b[1;34m(self, method, url, redirect, **kw)\u001b[0m\n\u001b[0;32m    153\u001b[0m             \u001b[0mresponse\u001b[0m \u001b[1;33m=\u001b[0m \u001b[0mconn\u001b[0m\u001b[1;33m.\u001b[0m\u001b[0murlopen\u001b[0m\u001b[1;33m(\u001b[0m\u001b[0mmethod\u001b[0m\u001b[1;33m,\u001b[0m \u001b[0murl\u001b[0m\u001b[1;33m,\u001b[0m \u001b[1;33m**\u001b[0m\u001b[0mkw\u001b[0m\u001b[1;33m)\u001b[0m\u001b[1;33m\u001b[0m\u001b[0m\n\u001b[0;32m    154\u001b[0m         \u001b[1;32melse\u001b[0m\u001b[1;33m:\u001b[0m\u001b[1;33m\u001b[0m\u001b[0m\n\u001b[1;32m--> 155\u001b[1;33m             \u001b[0mresponse\u001b[0m \u001b[1;33m=\u001b[0m \u001b[0mconn\u001b[0m\u001b[1;33m.\u001b[0m\u001b[0murlopen\u001b[0m\u001b[1;33m(\u001b[0m\u001b[0mmethod\u001b[0m\u001b[1;33m,\u001b[0m \u001b[0mu\u001b[0m\u001b[1;33m.\u001b[0m\u001b[0mrequest_uri\u001b[0m\u001b[1;33m,\u001b[0m \u001b[1;33m**\u001b[0m\u001b[0mkw\u001b[0m\u001b[1;33m)\u001b[0m\u001b[1;33m\u001b[0m\u001b[0m\n\u001b[0m\u001b[0;32m    156\u001b[0m \u001b[1;33m\u001b[0m\u001b[0m\n\u001b[0;32m    157\u001b[0m         \u001b[0mredirect_location\u001b[0m \u001b[1;33m=\u001b[0m \u001b[0mredirect\u001b[0m \u001b[1;32mand\u001b[0m \u001b[0mresponse\u001b[0m\u001b[1;33m.\u001b[0m\u001b[0mget_redirect_location\u001b[0m\u001b[1;33m(\u001b[0m\u001b[1;33m)\u001b[0m\u001b[1;33m\u001b[0m\u001b[0m\n",
        "\u001b[1;32m/home/sam/local-python/2.7.6/py-init-env/lib/python2.7/site-packages/urllib3/connectionpool.pyc\u001b[0m in \u001b[0;36murlopen\u001b[1;34m(self, method, url, body, headers, retries, redirect, assert_same_host, timeout, pool_timeout, release_conn, **response_kw)\u001b[0m\n\u001b[0;32m    560\u001b[0m                                 \u001b[0mredirect\u001b[0m\u001b[1;33m,\u001b[0m \u001b[0massert_same_host\u001b[0m\u001b[1;33m,\u001b[0m\u001b[1;33m\u001b[0m\u001b[0m\n\u001b[0;32m    561\u001b[0m                                 \u001b[0mtimeout\u001b[0m\u001b[1;33m=\u001b[0m\u001b[0mtimeout\u001b[0m\u001b[1;33m,\u001b[0m \u001b[0mpool_timeout\u001b[0m\u001b[1;33m=\u001b[0m\u001b[0mpool_timeout\u001b[0m\u001b[1;33m,\u001b[0m\u001b[1;33m\u001b[0m\u001b[0m\n\u001b[1;32m--> 562\u001b[1;33m                                 release_conn=release_conn, **response_kw)\n\u001b[0m\u001b[0;32m    563\u001b[0m \u001b[1;33m\u001b[0m\u001b[0m\n\u001b[0;32m    564\u001b[0m         \u001b[1;31m# Handle redirect?\u001b[0m\u001b[1;33m\u001b[0m\u001b[1;33m\u001b[0m\u001b[0m\n",
        "\u001b[1;32m/home/sam/local-python/2.7.6/py-init-env/lib/python2.7/site-packages/urllib3/connectionpool.pyc\u001b[0m in \u001b[0;36murlopen\u001b[1;34m(self, method, url, body, headers, retries, redirect, assert_same_host, timeout, pool_timeout, release_conn, **response_kw)\u001b[0m\n\u001b[0;32m    560\u001b[0m                                 \u001b[0mredirect\u001b[0m\u001b[1;33m,\u001b[0m \u001b[0massert_same_host\u001b[0m\u001b[1;33m,\u001b[0m\u001b[1;33m\u001b[0m\u001b[0m\n\u001b[0;32m    561\u001b[0m                                 \u001b[0mtimeout\u001b[0m\u001b[1;33m=\u001b[0m\u001b[0mtimeout\u001b[0m\u001b[1;33m,\u001b[0m \u001b[0mpool_timeout\u001b[0m\u001b[1;33m=\u001b[0m\u001b[0mpool_timeout\u001b[0m\u001b[1;33m,\u001b[0m\u001b[1;33m\u001b[0m\u001b[0m\n\u001b[1;32m--> 562\u001b[1;33m                                 release_conn=release_conn, **response_kw)\n\u001b[0m\u001b[0;32m    563\u001b[0m \u001b[1;33m\u001b[0m\u001b[0m\n\u001b[0;32m    564\u001b[0m         \u001b[1;31m# Handle redirect?\u001b[0m\u001b[1;33m\u001b[0m\u001b[1;33m\u001b[0m\u001b[0m\n",
        "\u001b[1;32m/home/sam/local-python/2.7.6/py-init-env/lib/python2.7/site-packages/urllib3/connectionpool.pyc\u001b[0m in \u001b[0;36murlopen\u001b[1;34m(self, method, url, body, headers, retries, redirect, assert_same_host, timeout, pool_timeout, release_conn, **response_kw)\u001b[0m\n\u001b[0;32m    560\u001b[0m                                 \u001b[0mredirect\u001b[0m\u001b[1;33m,\u001b[0m \u001b[0massert_same_host\u001b[0m\u001b[1;33m,\u001b[0m\u001b[1;33m\u001b[0m\u001b[0m\n\u001b[0;32m    561\u001b[0m                                 \u001b[0mtimeout\u001b[0m\u001b[1;33m=\u001b[0m\u001b[0mtimeout\u001b[0m\u001b[1;33m,\u001b[0m \u001b[0mpool_timeout\u001b[0m\u001b[1;33m=\u001b[0m\u001b[0mpool_timeout\u001b[0m\u001b[1;33m,\u001b[0m\u001b[1;33m\u001b[0m\u001b[0m\n\u001b[1;32m--> 562\u001b[1;33m                                 release_conn=release_conn, **response_kw)\n\u001b[0m\u001b[0;32m    563\u001b[0m \u001b[1;33m\u001b[0m\u001b[0m\n\u001b[0;32m    564\u001b[0m         \u001b[1;31m# Handle redirect?\u001b[0m\u001b[1;33m\u001b[0m\u001b[1;33m\u001b[0m\u001b[0m\n",
        "\u001b[1;32m/home/sam/local-python/2.7.6/py-init-env/lib/python2.7/site-packages/urllib3/connectionpool.pyc\u001b[0m in \u001b[0;36murlopen\u001b[1;34m(self, method, url, body, headers, retries, redirect, assert_same_host, timeout, pool_timeout, release_conn, **response_kw)\u001b[0m\n\u001b[0;32m    541\u001b[0m                     \u001b[1;32mraise\u001b[0m \u001b[0mConnectionError\u001b[0m\u001b[1;33m(\u001b[0m\u001b[1;34m'Connection failed.'\u001b[0m\u001b[1;33m,\u001b[0m \u001b[0me\u001b[0m\u001b[1;33m)\u001b[0m\u001b[1;33m\u001b[0m\u001b[0m\n\u001b[0;32m    542\u001b[0m \u001b[1;33m\u001b[0m\u001b[0m\n\u001b[1;32m--> 543\u001b[1;33m                 \u001b[1;32mraise\u001b[0m \u001b[0mMaxRetryError\u001b[0m\u001b[1;33m(\u001b[0m\u001b[0mself\u001b[0m\u001b[1;33m,\u001b[0m \u001b[0murl\u001b[0m\u001b[1;33m,\u001b[0m \u001b[0me\u001b[0m\u001b[1;33m)\u001b[0m\u001b[1;33m\u001b[0m\u001b[0m\n\u001b[0m\u001b[0;32m    544\u001b[0m \u001b[1;33m\u001b[0m\u001b[0m\n\u001b[0;32m    545\u001b[0m             \u001b[1;31m# Keep track of the error for the retry warning.\u001b[0m\u001b[1;33m\u001b[0m\u001b[1;33m\u001b[0m\u001b[0m\n",
        "\u001b[1;31mMaxRetryError\u001b[0m: HTTPConnectionPool(host='capitolwords.org', port=80): Max retries exceeded with url: /api/1/text.json?sort=id+asc&apikey=05ccd18a42b6443c908952f80fa17c19&page=1 (Caused by <class 'socket.timeout'>: timed out)"
       ]
      }
     ],
     "prompt_number": 9
    },
    {
     "cell_type": "code",
     "collapsed": false,
     "input": [
      "for obv in results:%%!\n",
      "    print obv['speaker_last']"
     ],
     "language": "python",
     "metadata": {},
     "outputs": [
      {
       "output_type": "stream",
       "stream": "stdout",
       "text": [
        "Warner\n",
        "Robb\n",
        "Warner\n",
        "Robb\n",
        "Warner\n",
        "Sarbanes\n",
        "Warner\n",
        "Sarbanes\n",
        "Warner\n",
        "None\n",
        "Robb\n",
        "None\n",
        "Stevens\n",
        "None\n",
        "Stevens\n",
        "None\n",
        "Warner\n",
        "None\n",
        "Warner\n",
        "None\n",
        "Stevens\n",
        "None\n",
        "Harkin\n",
        "Warner\n",
        "None\n",
        "Harkin\n",
        "Warner\n",
        "None\n",
        "None\n",
        "None\n",
        "Dole\n",
        "Dorgan\n",
        "None\n",
        "Dole\n",
        "None\n",
        "None\n",
        "None\n",
        "None\n",
        "Dole\n",
        "None\n",
        "Helms\n",
        "Dole\n",
        "None\n",
        "Dole\n",
        "Dole\n",
        "Dorgan\n",
        "Sarbanes\n",
        "Warner\n",
        "Dole\n",
        "Sarbanes\n"
       ]
      }
     ],
     "prompt_number": 64
    },
    {
     "cell_type": "code",
     "collapsed": false,
     "input": [
      "# Capitol Words API root for text\n",
      "endpoint =  'http://capitolwords.org/api/1/text.json?'\n",
      "\n",
      "# query parameters\n",
      "query_params = {'apikey': '05ccd18a42b6443c908952f80fa17c19',\n",
      "                'bioguide_id' : 'L000551',\n",
      "                'start_date' : '2009-01-01',\n",
      "                'end_date': '2009-02-25'}\n",
      "\n",
      "# call API\n",
      "response = urllib3.request('GET', endpoint + urllib3.request.urlencode(query_params))\n",
      "print response.data"
     ],
     "language": "python",
     "metadata": {},
     "outputs": [
      {
       "ename": "TypeError",
       "evalue": "'module' object is not callable",
       "output_type": "pyerr",
       "traceback": [
        "\u001b[1;31m---------------------------------------------------------------------------\u001b[0m\n\u001b[1;31mTypeError\u001b[0m                                 Traceback (most recent call last)",
        "\u001b[1;32m<ipython-input-13-c9c06b90aa47>\u001b[0m in \u001b[0;36m<module>\u001b[1;34m()\u001b[0m\n\u001b[0;32m      9\u001b[0m \u001b[1;33m\u001b[0m\u001b[0m\n\u001b[0;32m     10\u001b[0m \u001b[1;31m# call API\u001b[0m\u001b[1;33m\u001b[0m\u001b[1;33m\u001b[0m\u001b[0m\n\u001b[1;32m---> 11\u001b[1;33m \u001b[0mresponse\u001b[0m \u001b[1;33m=\u001b[0m \u001b[0murllib3\u001b[0m\u001b[1;33m.\u001b[0m\u001b[0mrequest\u001b[0m\u001b[1;33m(\u001b[0m\u001b[1;34m'GET'\u001b[0m\u001b[1;33m,\u001b[0m \u001b[0mendpoint\u001b[0m \u001b[1;33m+\u001b[0m \u001b[0murllib3\u001b[0m\u001b[1;33m.\u001b[0m\u001b[0mrequest\u001b[0m\u001b[1;33m.\u001b[0m\u001b[0murlencode\u001b[0m\u001b[1;33m(\u001b[0m\u001b[0mquery_params\u001b[0m\u001b[1;33m)\u001b[0m\u001b[1;33m)\u001b[0m\u001b[1;33m\u001b[0m\u001b[0m\n\u001b[0m\u001b[0;32m     12\u001b[0m \u001b[1;32mprint\u001b[0m \u001b[0mresponse\u001b[0m\u001b[1;33m.\u001b[0m\u001b[0mdata\u001b[0m\u001b[1;33m\u001b[0m\u001b[0m\n",
        "\u001b[1;31mTypeError\u001b[0m: 'module' object is not callable"
       ]
      }
     ],
     "prompt_number": 13
    },
    {
     "cell_type": "code",
     "collapsed": false,
     "input": [],
     "language": "python",
     "metadata": {},
     "outputs": []
    }
   ],
   "metadata": {}
  }
 ]
}