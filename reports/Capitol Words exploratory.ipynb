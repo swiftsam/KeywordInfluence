{
 "metadata": {
  "name": "",
  "signature": "sha256:0e62dd81c7693be53d3c29d66321684b0de71e1dcd3e4bca6950aa089cfd1866"
 },
 "nbformat": 3,
 "nbformat_minor": 0,
 "worksheets": [
  {
   "cells": [
    {
     "cell_type": "code",
     "collapsed": false,
     "input": [
      "import pandas as pd\n",
      "import numpy as np\n",
      "import matplotlib.pyplot as plt\n",
      "import psycopg2 as psql\n",
      "import nltk.tokenize as tok\n",
      "import nltk.corpus as corpus\n",
      "import nltk.stem as stem\n",
      "from sklearn.feature_extraction.text import CountVectorizer"
     ],
     "language": "python",
     "metadata": {},
     "outputs": [],
     "prompt_number": 610
    },
    {
     "cell_type": "code",
     "collapsed": false,
     "input": [
      "conn    = psql.connect(\"dbname='keyword-influence'\")\n",
      "cursor  = conn.cursor()\n",
      "\n",
      "cursor.execute(\"SELECT id, speaking FROM words WHERE CAST(congress AS integer) > 110 LIMIT;\")\n",
      "sql_result = cursor.fetchall()"
     ],
     "language": "python",
     "metadata": {},
     "outputs": [],
     "prompt_number": 621
    },
    {
     "cell_type": "code",
     "collapsed": false,
     "input": [
      "counter = CountVectorizer(stop_words = corpus.stopwords.words('english'), \\\n",
      "                          ngram_range=(2, 2), min_df = 2)\n",
      "\n",
      "def fit_trans(chunk):\n",
      "    text = chunk[1]\n",
      "    print text\n",
      "    counts = counter.fit_transform(text)\n",
      "\n",
      "chunks    = map(lambda x: x[1], sql_result)\n",
      "chunk_ids = map(lambda x: x[0], sql_result)\n",
      "counts    = counter.fit_transform(chunks)\n",
      "vocab     = counter.get_feature_names()\n",
      "vocab     = dict(zip(range(len(vocab)),vocab))\n",
      "\n",
      "# print type(counts)\n",
      "print counts.shape\n",
      "# print str(len(chunk_ids)) + \": '\" + \"', '\".join(chunk_ids[0:2]) + \"'\"\n",
      "# print vocab\n"
     ],
     "language": "python",
     "metadata": {},
     "outputs": [
      {
       "output_type": "stream",
       "stream": "stdout",
       "text": [
        "(5000, 88746)\n"
       ]
      }
     ],
     "prompt_number": 622
    },
    {
     "cell_type": "code",
     "collapsed": false,
     "input": [
      "def get_rel_freqs(count_matrix):\n",
      "    total_count = count_matrix.sum()\n",
      "    col_sums = np.asarray(count_matrix.sum(2)).flatten()\n",
      "    word_freqs = 1. * col_sums / total_count\n",
      "    return(word_freqs)\n",
      "\n",
      "def get_top_words(count_matrix, vocab, n=5):\n",
      "    rel_freqs   = get_rel_freqs(count_matrix)\n",
      "    top_indexes = rel_freqs.argsort()[::-1][:n] \n",
      "    for i in top_indexes:\n",
      "        print \"%.4f\" % rel_freqs[i] + \" | \" + str(count_matrix[:,i].sum()) + \" | \" + vocab.get(i)"
     ],
     "language": "python",
     "metadata": {},
     "outputs": [],
     "prompt_number": 640
    },
    {
     "cell_type": "code",
     "collapsed": false,
     "input": [
      "rel_freqs = get_rel_freqs(counts)\n",
      "print rel_freqs[:10]"
     ],
     "language": "python",
     "metadata": {},
     "outputs": [
      {
       "output_type": "stream",
       "stream": "stdout",
       "text": [
        "[  4.23758740e-05   1.17710761e-05   7.06264567e-06   4.70843044e-06\n",
        "   9.41686089e-06   7.06264567e-06   7.06264567e-06   4.70843044e-06\n",
        "   1.17710761e-05   4.70843044e-06]\n"
       ]
      }
     ],
     "prompt_number": 641
    },
    {
     "cell_type": "code",
     "collapsed": false,
     "input": [
      "get_top_words(counts, vocab, 30)"
     ],
     "language": "python",
     "metadata": {},
     "outputs": [
      {
       "output_type": "stream",
       "stream": "stdout",
       "text": [
        "0.0059 | 2505 | health care\n",
        "0.0048 | 2058 | mr speaker\n",
        "0.0032 | 1351 | mr president\n",
        "0.0031 | 1337 | united states\n",
        "0.0025 | 1063 | unanimous consent\n",
        "0.0024 | 1029 | ask unanimous\n",
        "0.0022 | 950 | madam speaker\n",
        "0.0020 | 841 | health insurance\n",
        "0.0018 | 747 | american people\n",
        "0.0017 | 706 | president ask\n",
        "0.0016 | 661 | rise today\n",
        "0.0015 | 623 | speaker rise\n",
        "0.0014 | 605 | balance time\n",
        "0.0013 | 567 | insurance companies\n",
        "0.0013 | 533 | years ago\n",
        "0.0012 | 489 | house representatives\n",
        "0.0011 | 486 | public option\n",
        "0.0011 | 452 | middle class\n",
        "0.0010 | 425 | madam president\n",
        "0.0010 | 404 | would like\n",
        "0.0009 | 363 | small business\n",
        "0.0008 | 357 | new york\n",
        "0.0008 | 351 | federal government\n",
        "0.0008 | 344 | yield floor\n",
        "0.0008 | 334 | yield back\n",
        "0.0008 | 328 | white house\n",
        "0.0008 | 325 | public health\n",
        "0.0007 | 318 | high school\n",
        "0.0007 | 312 | last year\n",
        "0.0007 | 311 | 10 years\n"
       ]
      }
     ],
     "prompt_number": 642
    },
    {
     "cell_type": "code",
     "collapsed": false,
     "input": [],
     "language": "python",
     "metadata": {},
     "outputs": [],
     "prompt_number": 642
    },
    {
     "cell_type": "code",
     "collapsed": false,
     "input": [
      "stemmer = stem.SnowballStemmer(\"english\", ignore_stopwords=True)\n",
      "\n",
      "def token_stem(chunk):\n",
      "    text   = chunk[1]\n",
      "    tokens = tok.word_tokenize(text)\n",
      "    stems  = map(stemmer.stem, tokens)\n",
      "    return [chunk[0], stems]\n",
      "\n",
      "chunks_stemmed = map(token_stem, sql_result)\n"
     ],
     "language": "python",
     "metadata": {},
     "outputs": [],
     "prompt_number": 521
    },
    {
     "cell_type": "code",
     "collapsed": false,
     "input": [],
     "language": "python",
     "metadata": {},
     "outputs": [],
     "prompt_number": 642
    },
    {
     "cell_type": "code",
     "collapsed": false,
     "input": [],
     "language": "python",
     "metadata": {},
     "outputs": [],
     "prompt_number": 642
    },
    {
     "cell_type": "code",
     "collapsed": false,
     "input": [],
     "language": "python",
     "metadata": {},
     "outputs": [],
     "prompt_number": 164
    },
    {
     "cell_type": "code",
     "collapsed": false,
     "input": [],
     "language": "python",
     "metadata": {},
     "outputs": []
    }
   ],
   "metadata": {}
  }
 ]
}