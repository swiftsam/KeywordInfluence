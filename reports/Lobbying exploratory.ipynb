{
 "metadata": {
  "name": "",
  "signature": "sha256:41d73306cfbb7e1ce65fab21cb5f16608aa4d2eb728c3f383a04b3e06dcc7ae2"
 },
 "nbformat": 3,
 "nbformat_minor": 0,
 "worksheets": [
  {
   "cells": [
    {
     "cell_type": "heading",
     "level": 1,
     "metadata": {},
     "source": [
      "Influence Descriptives"
     ]
    },
    {
     "cell_type": "code",
     "collapsed": false,
     "input": [
      "import pandas as pd\n",
      "import numpy as np\n",
      "import matplotlib.pyplot as plt\n",
      "import psycopg2 as psql\n",
      "\n",
      "conn = psql.connect(\"dbname='keyword-influence'\")\n",
      "cursor = conn.cursor()"
     ],
     "language": "python",
     "metadata": {},
     "outputs": [
      {
       "output_type": "stream",
       "stream": "stderr",
       "text": [
        "/home/sam/local-python/2.7.6/py-init-env/lib/python2.7/site-packages/pandas/io/excel.py:626: UserWarning: Installed openpyxl is not supported at this time. Use >=1.6.1 and <2.0.0.\n",
        "  .format(openpyxl_compat.start_ver, openpyxl_compat.stop_ver))\n"
       ]
      }
     ],
     "prompt_number": 1
    },
    {
     "cell_type": "code",
     "collapsed": false,
     "input": [
      "cursor.execute(\"SELECT candidate_id, \\\n",
      "                    SUM(amount)/1000 AS total_amount, \\\n",
      "                    COUNT(1) AS n_contributions, \\\n",
      "                    COUNT(DISTINCT pac_id) AS n_pacs \\\n",
      "                FROM pac \\\n",
      "                WHERE year = 2012 \\\n",
      "                GROUP BY candidate_id \\\n",
      "                ORDER BY total_amount DESC;\")\n",
      "c_summary = pd.DataFrame(cursor.fetchall())\n",
      "c_summary.columns = [desc[0] for desc in cursor.description]\n",
      "print c_summary.head(5)\n",
      "\n"
     ],
     "language": "python",
     "metadata": {},
     "outputs": [
      {
       "output_type": "stream",
       "stream": "stdout",
       "text": [
        "  candidate_id         total_amount  n_contributions  n_pacs\n",
        "0    N00009638  396987.446000000000            30631     341\n",
        "1    N00000286  188574.144000000000            22279     546\n",
        "2    N00008333   32536.265000000000              817      38\n",
        "3    N00033177   30335.896000000000             2653     327\n",
        "4    N00001380   28648.724000000000              630      35\n"
       ]
      }
     ],
     "prompt_number": 107
    },
    {
     "cell_type": "code",
     "collapsed": false,
     "input": [
      "cursor.execute(\"SELECT pac_id, \\\n",
      "                    SUM(amount)/1000 AS total_amount, \\\n",
      "                    COUNT(1) AS n_contributions, \\\n",
      "                    COUNT(DISTINCT candidate_id) AS n_candidates \\\n",
      "                FROM pac \\\n",
      "                WHERE year = 2012 \\\n",
      "                GROUP BY pac_id \\\n",
      "                ORDER BY total_amount DESC;\")\n",
      "pac_summary = pd.DataFrame(cursor.fetchall())\n",
      "pac_summary.columns = [desc[0] for desc in cursor.description]\n",
      "print pac_summary.head(20)\n"
     ],
     "language": "python",
     "metadata": {},
     "outputs": [],
     "prompt_number": 0
    },
    {
     "cell_type": "code",
     "collapsed": false,
     "input": [
      "cursor.execute(\"SELECT year, \\\n",
      "                    SUM(amount)/1000 AS total_amount, \\\n",
      "                    COUNT(1) AS n_contributions, \\\n",
      "                    COUNT(DISTINCT pac_id) AS n_pacs, \\\n",
      "                    COUNT(DISTINCT candidate_id) AS n_candidates \\\n",
      "                FROM pac \\\n",
      "                GROUP BY year \\\n",
      "                ORDER BY year;\")\n",
      "year_summary = pd.DataFrame(cursor.fetchall())\n",
      "year_summary.columns = [desc[0] for desc in cursor.description]\n",
      "print year_summary\n"
     ],
     "language": "python",
     "metadata": {},
     "outputs": [],
     "prompt_number": 1
    },
    {
     "cell_type": "code",
     "collapsed": false,
     "input": [
      "print type(pac_summary.total_amount[0])\n",
      "pac_summary.describe()"
     ],
     "language": "python",
     "metadata": {},
     "outputs": [
      {
       "output_type": "stream",
       "stream": "stdout",
       "text": [
        "<class 'decimal.Decimal'>\n"
       ]
      },
      {
       "html": [
        "<div style=\"max-height:1000px;max-width:1500px;overflow:auto;\">\n",
        "<table border=\"1\" class=\"dataframe\">\n",
        "  <thead>\n",
        "    <tr style=\"text-align: right;\">\n",
        "      <th></th>\n",
        "      <th>n_contributions</th>\n",
        "      <th>n_candidates</th>\n",
        "    </tr>\n",
        "  </thead>\n",
        "  <tbody>\n",
        "    <tr>\n",
        "      <th>count</th>\n",
        "      <td>  5120.000000</td>\n",
        "      <td> 5120.000000</td>\n",
        "    </tr>\n",
        "    <tr>\n",
        "      <th>mean</th>\n",
        "      <td>    77.058984</td>\n",
        "      <td>   29.341211</td>\n",
        "    </tr>\n",
        "    <tr>\n",
        "      <th>std</th>\n",
        "      <td>   991.362678</td>\n",
        "      <td>   55.104016</td>\n",
        "    </tr>\n",
        "    <tr>\n",
        "      <th>min</th>\n",
        "      <td>     1.000000</td>\n",
        "      <td>    1.000000</td>\n",
        "    </tr>\n",
        "    <tr>\n",
        "      <th>25%</th>\n",
        "      <td>     4.000000</td>\n",
        "      <td>    2.000000</td>\n",
        "    </tr>\n",
        "    <tr>\n",
        "      <th>50%</th>\n",
        "      <td>    14.000000</td>\n",
        "      <td>    9.000000</td>\n",
        "    </tr>\n",
        "    <tr>\n",
        "      <th>75%</th>\n",
        "      <td>    49.000000</td>\n",
        "      <td>   30.000000</td>\n",
        "    </tr>\n",
        "    <tr>\n",
        "      <th>max</th>\n",
        "      <td> 69340.000000</td>\n",
        "      <td>  577.000000</td>\n",
        "    </tr>\n",
        "  </tbody>\n",
        "</table>\n",
        "</div>"
       ],
       "metadata": {},
       "output_type": "pyout",
       "prompt_number": 106,
       "text": [
        "       n_contributions  n_candidates\n",
        "count      5120.000000   5120.000000\n",
        "mean         77.058984     29.341211\n",
        "std         991.362678     55.104016\n",
        "min           1.000000      1.000000\n",
        "25%           4.000000      2.000000\n",
        "50%          14.000000      9.000000\n",
        "75%          49.000000     30.000000\n",
        "max       69340.000000    577.000000"
       ]
      }
     ],
     "prompt_number": 106
    },
    {
     "cell_type": "code",
     "collapsed": false,
     "input": [],
     "language": "python",
     "metadata": {},
     "outputs": []
    }
   ],
   "metadata": {}
  }
 ]
}