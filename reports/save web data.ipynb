{
 "metadata": {
  "name": "",
  "signature": "sha256:0c8b573031f17fa00b5c6a9dba70b21a7f0a0d6355db89c2839507643539538e"
 },
 "nbformat": 3,
 "nbformat_minor": 0,
 "worksheets": [
  {
   "cells": [
    {
     "cell_type": "code",
     "collapsed": false,
     "input": [
      "%reset"
     ],
     "language": "python",
     "metadata": {},
     "outputs": [
      {
       "name": "stdout",
       "output_type": "stream",
       "stream": "stdout",
       "text": [
        "Once deleted, variables cannot be recovered. Proceed (y/[n])? y\n"
       ]
      }
     ],
     "prompt_number": 70
    },
    {
     "cell_type": "code",
     "collapsed": false,
     "input": [
      "%run token_freq_fns.py"
     ],
     "language": "python",
     "metadata": {},
     "outputs": [],
     "prompt_number": 71
    },
    {
     "cell_type": "code",
     "collapsed": false,
     "input": [
      "tokens_112 = token_count_congress(congress=112)"
     ],
     "language": "python",
     "metadata": {},
     "outputs": [],
     "prompt_number": 72
    },
    {
     "cell_type": "code",
     "collapsed": false,
     "input": [
      "pac_ids = get_pac_ids('2012')"
     ],
     "language": "python",
     "metadata": {},
     "outputs": []
    },
    {
     "cell_type": "code",
     "collapsed": false,
     "input": [
      "n_pacs = len(pac_ids)"
     ],
     "language": "python",
     "metadata": {},
     "outputs": [],
     "prompt_number": 75
    },
    {
     "cell_type": "code",
     "collapsed": false,
     "input": [
      "results = pd.DataFrame(pd.DataFrame(index=pac_ids[:n_pacs], \\\n",
      "                                    columns=['congress','n_chunks','words']))"
     ],
     "language": "python",
     "metadata": {},
     "outputs": [],
     "prompt_number": 77
    },
    {
     "cell_type": "code",
     "collapsed": false,
     "input": [
      "for pac_id in pac_ids[:n_pacs]:\n",
      "    n_chunk = len(get_chunk_ids_by_pac(pac_id))\n",
      "    print pac_id, n_chunk\n",
      "    results.ix[pac_id,'n_chunks'] = n_chunk\n",
      "\n",
      "\n"
     ],
     "language": "python",
     "metadata": {},
     "outputs": [
      {
       "output_type": "stream",
       "stream": "stdout",
       "text": [
        "C00415554 0\n",
        "C00422527"
       ]
      },
      {
       "output_type": "stream",
       "stream": "stdout",
       "text": [
        " 382\n",
        "C00432781"
       ]
      },
      {
       "output_type": "stream",
       "stream": "stdout",
       "text": [
        " 0\n",
        "C00436592"
       ]
      },
      {
       "output_type": "stream",
       "stream": "stdout",
       "text": [
        " 0\n",
        "C00436634"
       ]
      },
      {
       "output_type": "stream",
       "stream": "stdout",
       "text": [
        " 0\n",
        "C00439612"
       ]
      },
      {
       "output_type": "stream",
       "stream": "stdout",
       "text": [
        " 0\n",
        "C00444091"
       ]
      },
      {
       "output_type": "stream",
       "stream": "stdout",
       "text": [
        " 0\n",
        "C00479444"
       ]
      },
      {
       "output_type": "stream",
       "stream": "stdout",
       "text": [
        " 0\n",
        "C00479469"
       ]
      },
      {
       "output_type": "stream",
       "stream": "stdout",
       "text": [
        " 0\n",
        "C00481028"
       ]
      },
      {
       "output_type": "stream",
       "stream": "stdout",
       "text": [
        " 0\n",
        "C00491720"
       ]
      },
      {
       "output_type": "stream",
       "stream": "stdout",
       "text": [
        " 0\n",
        "C00495457"
       ]
      },
      {
       "output_type": "stream",
       "stream": "stdout",
       "text": [
        " 0\n",
        "C00504001"
       ]
      },
      {
       "output_type": "stream",
       "stream": "stdout",
       "text": [
        " 0\n",
        "C00504639"
       ]
      },
      {
       "output_type": "stream",
       "stream": "stdout",
       "text": [
        " 0\n",
        "C00508267"
       ]
      },
      {
       "output_type": "stream",
       "stream": "stdout",
       "text": [
        " 0\n",
        "C00508275"
       ]
      },
      {
       "output_type": "stream",
       "stream": "stdout",
       "text": [
        " 0\n",
        "C00508937"
       ]
      },
      {
       "output_type": "stream",
       "stream": "stdout",
       "text": [
        " 0\n",
        "C00513283"
       ]
      },
      {
       "output_type": "stream",
       "stream": "stdout",
       "text": [
        " 0\n",
        "C00513309"
       ]
      },
      {
       "output_type": "stream",
       "stream": "stdout",
       "text": [
        " 0\n",
        "C00513317"
       ]
      },
      {
       "output_type": "stream",
       "stream": "stdout",
       "text": [
        " 0\n",
        "C00513325"
       ]
      },
      {
       "output_type": "stream",
       "stream": "stdout",
       "text": [
        " 0\n",
        "C00513333"
       ]
      },
      {
       "output_type": "stream",
       "stream": "stdout",
       "text": [
        " 0\n",
        "C00526335"
       ]
      },
      {
       "output_type": "stream",
       "stream": "stdout",
       "text": [
        " 0\n",
        "C00526343"
       ]
      },
      {
       "output_type": "stream",
       "stream": "stdout",
       "text": [
        " 0\n",
        "C00535252"
       ]
      },
      {
       "output_type": "stream",
       "stream": "stdout",
       "text": [
        " 0\n",
        "C00535260"
       ]
      },
      {
       "output_type": "stream",
       "stream": "stdout",
       "text": [
        " 0\n",
        "C00535278"
       ]
      },
      {
       "output_type": "stream",
       "stream": "stdout",
       "text": [
        " 0\n",
        "C00535286"
       ]
      },
      {
       "output_type": "stream",
       "stream": "stdout",
       "text": [
        " 0\n",
        "C00535294"
       ]
      },
      {
       "output_type": "stream",
       "stream": "stdout",
       "text": [
        " 0\n",
        "C00535302"
       ]
      },
      {
       "output_type": "stream",
       "stream": "stdout",
       "text": [
        " 0\n",
        "C00535310"
       ]
      },
      {
       "output_type": "stream",
       "stream": "stdout",
       "text": [
        " 0\n",
        "C00535328"
       ]
      },
      {
       "output_type": "stream",
       "stream": "stdout",
       "text": [
        " 0\n",
        "C00535336"
       ]
      },
      {
       "output_type": "stream",
       "stream": "stdout",
       "text": [
        " 0\n",
        "C00535344"
       ]
      },
      {
       "output_type": "stream",
       "stream": "stdout",
       "text": [
        " 0\n",
        "C00535351"
       ]
      },
      {
       "output_type": "stream",
       "stream": "stdout",
       "text": [
        " 0\n",
        "C00535369"
       ]
      },
      {
       "output_type": "stream",
       "stream": "stdout",
       "text": [
        " 0\n",
        "C00535377"
       ]
      },
      {
       "output_type": "stream",
       "stream": "stdout",
       "text": [
        " 0\n",
        "C00535385"
       ]
      },
      {
       "output_type": "stream",
       "stream": "stdout",
       "text": [
        " 0\n",
        "C00535393"
       ]
      },
      {
       "output_type": "stream",
       "stream": "stdout",
       "text": [
        " 0\n",
        "C00535401"
       ]
      },
      {
       "output_type": "stream",
       "stream": "stdout",
       "text": [
        " 0\n",
        "C00535419"
       ]
      },
      {
       "output_type": "stream",
       "stream": "stdout",
       "text": [
        " 0\n",
        "C00535427"
       ]
      },
      {
       "output_type": "stream",
       "stream": "stdout",
       "text": [
        " 0\n",
        "C00535435"
       ]
      },
      {
       "output_type": "stream",
       "stream": "stdout",
       "text": [
        " 0\n",
        "C00535443"
       ]
      },
      {
       "output_type": "stream",
       "stream": "stdout",
       "text": [
        " 0\n",
        "C00535450"
       ]
      },
      {
       "output_type": "stream",
       "stream": "stdout",
       "text": [
        " 0\n",
        "C00535468"
       ]
      },
      {
       "output_type": "stream",
       "stream": "stdout",
       "text": [
        " 0\n",
        "C00535476"
       ]
      },
      {
       "output_type": "stream",
       "stream": "stdout",
       "text": [
        " 0\n",
        "C00535484"
       ]
      },
      {
       "output_type": "stream",
       "stream": "stdout",
       "text": [
        " 0\n",
        "C00535492"
       ]
      },
      {
       "output_type": "stream",
       "stream": "stdout",
       "text": [
        " 0\n",
        "C00535500"
       ]
      },
      {
       "output_type": "stream",
       "stream": "stdout",
       "text": [
        " 0\n",
        "C00535518"
       ]
      },
      {
       "output_type": "stream",
       "stream": "stdout",
       "text": [
        " 0\n",
        "C00535526"
       ]
      },
      {
       "output_type": "stream",
       "stream": "stdout",
       "text": [
        " 0\n",
        "C00535534"
       ]
      },
      {
       "output_type": "stream",
       "stream": "stdout",
       "text": [
        " 0\n",
        "C00535542"
       ]
      },
      {
       "output_type": "stream",
       "stream": "stdout",
       "text": [
        " 0\n",
        "C00535559"
       ]
      },
      {
       "output_type": "stream",
       "stream": "stdout",
       "text": [
        " 0\n",
        "C00535567"
       ]
      },
      {
       "output_type": "stream",
       "stream": "stdout",
       "text": [
        " 0\n",
        "C00535575"
       ]
      },
      {
       "output_type": "stream",
       "stream": "stdout",
       "text": [
        " 0\n",
        "C00535583"
       ]
      },
      {
       "output_type": "stream",
       "stream": "stdout",
       "text": [
        " 0\n",
        "C00535591"
       ]
      },
      {
       "output_type": "stream",
       "stream": "stdout",
       "text": [
        " 0\n",
        "C00535609"
       ]
      },
      {
       "output_type": "stream",
       "stream": "stdout",
       "text": [
        " 0\n",
        "C00535617"
       ]
      },
      {
       "output_type": "stream",
       "stream": "stdout",
       "text": [
        " 0\n",
        "C00535625"
       ]
      },
      {
       "output_type": "stream",
       "stream": "stdout",
       "text": [
        " 0\n",
        "C00535633"
       ]
      },
      {
       "output_type": "stream",
       "stream": "stdout",
       "text": [
        " 0\n",
        "C00535641"
       ]
      },
      {
       "output_type": "stream",
       "stream": "stdout",
       "text": [
        " 0\n",
        "C00535658"
       ]
      },
      {
       "output_type": "stream",
       "stream": "stdout",
       "text": [
        " 0\n",
        "C00535666"
       ]
      },
      {
       "output_type": "stream",
       "stream": "stdout",
       "text": [
        " 0\n",
        "C00535674"
       ]
      },
      {
       "output_type": "stream",
       "stream": "stdout",
       "text": [
        " 0\n",
        "C00535682"
       ]
      },
      {
       "output_type": "stream",
       "stream": "stdout",
       "text": [
        " 0\n",
        "C00535690"
       ]
      },
      {
       "output_type": "stream",
       "stream": "stdout",
       "text": [
        " 0\n",
        "C00535708"
       ]
      },
      {
       "output_type": "stream",
       "stream": "stdout",
       "text": [
        " 0\n",
        "C00535716"
       ]
      },
      {
       "output_type": "stream",
       "stream": "stdout",
       "text": [
        " 0\n",
        "C00535724"
       ]
      },
      {
       "output_type": "stream",
       "stream": "stdout",
       "text": [
        " 0\n",
        "C00535732"
       ]
      },
      {
       "output_type": "stream",
       "stream": "stdout",
       "text": [
        " 0\n",
        "C00535740"
       ]
      },
      {
       "output_type": "stream",
       "stream": "stdout",
       "text": [
        " 0\n",
        "C00535757"
       ]
      },
      {
       "output_type": "stream",
       "stream": "stdout",
       "text": [
        " 0\n",
        "C00535765"
       ]
      },
      {
       "output_type": "stream",
       "stream": "stdout",
       "text": [
        " 0\n",
        "C00535773"
       ]
      },
      {
       "output_type": "stream",
       "stream": "stdout",
       "text": [
        " 0\n",
        "C00535781"
       ]
      },
      {
       "output_type": "stream",
       "stream": "stdout",
       "text": [
        " 0\n",
        "C00535799"
       ]
      },
      {
       "output_type": "stream",
       "stream": "stdout",
       "text": [
        " 0\n",
        "C00535807"
       ]
      },
      {
       "output_type": "stream",
       "stream": "stdout",
       "text": [
        " 0\n",
        "C00535815"
       ]
      },
      {
       "output_type": "stream",
       "stream": "stdout",
       "text": [
        " 0\n",
        "C00535823"
       ]
      },
      {
       "output_type": "stream",
       "stream": "stdout",
       "text": [
        " 0\n",
        "C00535831"
       ]
      },
      {
       "output_type": "stream",
       "stream": "stdout",
       "text": [
        " 0\n",
        "C00535849"
       ]
      },
      {
       "output_type": "stream",
       "stream": "stdout",
       "text": [
        " 0\n",
        "C00535856"
       ]
      },
      {
       "output_type": "stream",
       "stream": "stdout",
       "text": [
        " 0\n",
        "C00535864"
       ]
      },
      {
       "output_type": "stream",
       "stream": "stdout",
       "text": [
        " 0\n",
        "C00535872"
       ]
      },
      {
       "output_type": "stream",
       "stream": "stdout",
       "text": [
        " 0\n",
        "C00535880"
       ]
      },
      {
       "output_type": "stream",
       "stream": "stdout",
       "text": [
        " 0\n",
        "C00535898"
       ]
      },
      {
       "output_type": "stream",
       "stream": "stdout",
       "text": [
        " 0\n",
        "C00535906"
       ]
      },
      {
       "output_type": "stream",
       "stream": "stdout",
       "text": [
        " 0\n",
        "C00535914"
       ]
      },
      {
       "output_type": "stream",
       "stream": "stdout",
       "text": [
        " 0\n",
        "C00535922"
       ]
      },
      {
       "output_type": "stream",
       "stream": "stdout",
       "text": [
        " 0\n",
        "C00535930"
       ]
      },
      {
       "output_type": "stream",
       "stream": "stdout",
       "text": [
        " 0\n",
        "C00535948"
       ]
      },
      {
       "output_type": "stream",
       "stream": "stdout",
       "text": [
        " 0\n",
        "C00535955"
       ]
      },
      {
       "output_type": "stream",
       "stream": "stdout",
       "text": [
        " 0\n",
        "C00535963"
       ]
      },
      {
       "output_type": "stream",
       "stream": "stdout",
       "text": [
        " 0\n",
        "C00535971"
       ]
      },
      {
       "output_type": "stream",
       "stream": "stdout",
       "text": [
        " 0\n",
        "C00535989"
       ]
      },
      {
       "output_type": "stream",
       "stream": "stdout",
       "text": [
        " 0\n",
        "C00535997"
       ]
      },
      {
       "output_type": "stream",
       "stream": "stdout",
       "text": [
        " 0\n",
        "C00536003"
       ]
      },
      {
       "output_type": "stream",
       "stream": "stdout",
       "text": [
        " 0\n",
        "C00536011"
       ]
      },
      {
       "output_type": "stream",
       "stream": "stdout",
       "text": [
        " 0\n",
        "C00536029"
       ]
      },
      {
       "output_type": "stream",
       "stream": "stdout",
       "text": [
        " 0\n",
        "C00536037"
       ]
      },
      {
       "output_type": "stream",
       "stream": "stdout",
       "text": [
        " 0\n",
        "C00536045"
       ]
      },
      {
       "output_type": "stream",
       "stream": "stdout",
       "text": [
        " 0\n",
        "C00536052"
       ]
      },
      {
       "output_type": "stream",
       "stream": "stdout",
       "text": [
        " 0\n",
        "C00536060"
       ]
      },
      {
       "output_type": "stream",
       "stream": "stdout",
       "text": [
        " 0\n",
        "C00536078"
       ]
      },
      {
       "output_type": "stream",
       "stream": "stdout",
       "text": [
        " 0\n",
        "C00536086"
       ]
      },
      {
       "output_type": "stream",
       "stream": "stdout",
       "text": [
        " 0\n",
        "C00536094"
       ]
      },
      {
       "output_type": "stream",
       "stream": "stdout",
       "text": [
        " 0\n",
        "C00536102"
       ]
      },
      {
       "output_type": "stream",
       "stream": "stdout",
       "text": [
        " 0\n",
        "C00536110"
       ]
      },
      {
       "output_type": "stream",
       "stream": "stdout",
       "text": [
        " 0\n",
        "C00536136"
       ]
      },
      {
       "output_type": "stream",
       "stream": "stdout",
       "text": [
        " 0\n",
        "C00536144"
       ]
      },
      {
       "output_type": "stream",
       "stream": "stdout",
       "text": [
        " 0\n",
        "C00536151"
       ]
      },
      {
       "output_type": "stream",
       "stream": "stdout",
       "text": [
        " 0\n",
        "C00536169"
       ]
      },
      {
       "output_type": "stream",
       "stream": "stdout",
       "text": [
        " 0\n",
        "C00536177"
       ]
      },
      {
       "output_type": "stream",
       "stream": "stdout",
       "text": [
        " 0\n",
        "C00536185"
       ]
      },
      {
       "output_type": "stream",
       "stream": "stdout",
       "text": [
        " 0\n",
        "C00536193"
       ]
      },
      {
       "output_type": "stream",
       "stream": "stdout",
       "text": [
        " 0\n",
        "C00536201"
       ]
      },
      {
       "output_type": "stream",
       "stream": "stdout",
       "text": [
        " 0\n",
        "C00536219"
       ]
      },
      {
       "output_type": "stream",
       "stream": "stdout",
       "text": [
        " 0\n",
        "C00536227"
       ]
      },
      {
       "output_type": "stream",
       "stream": "stdout",
       "text": [
        " 0\n",
        "C00536235"
       ]
      },
      {
       "output_type": "stream",
       "stream": "stdout",
       "text": [
        " 0\n",
        "C00536243"
       ]
      },
      {
       "output_type": "stream",
       "stream": "stdout",
       "text": [
        " 0\n",
        "C00536250"
       ]
      },
      {
       "output_type": "stream",
       "stream": "stdout",
       "text": [
        " 0\n",
        "C00536268"
       ]
      },
      {
       "output_type": "stream",
       "stream": "stdout",
       "text": [
        " 0\n",
        "C00537191"
       ]
      },
      {
       "output_type": "stream",
       "stream": "stdout",
       "text": [
        " 0\n",
        "C00537209"
       ]
      },
      {
       "output_type": "stream",
       "stream": "stdout",
       "text": [
        " 0\n",
        "C00537217"
       ]
      },
      {
       "output_type": "stream",
       "stream": "stdout",
       "text": [
        " 0\n",
        "C00537225"
       ]
      },
      {
       "output_type": "stream",
       "stream": "stdout",
       "text": [
        " 0\n",
        "C00537233"
       ]
      },
      {
       "output_type": "stream",
       "stream": "stdout",
       "text": [
        " 0\n",
        "C00537241"
       ]
      },
      {
       "output_type": "stream",
       "stream": "stdout",
       "text": [
        " 0\n",
        "C00537258"
       ]
      },
      {
       "output_type": "stream",
       "stream": "stdout",
       "text": [
        " 0\n",
        "C00537266"
       ]
      },
      {
       "output_type": "stream",
       "stream": "stdout",
       "text": [
        " 0\n",
        "C00537274"
       ]
      },
      {
       "output_type": "stream",
       "stream": "stdout",
       "text": [
        " 0\n",
        "C00537282"
       ]
      },
      {
       "output_type": "stream",
       "stream": "stdout",
       "text": [
        " 0\n",
        "C00537290"
       ]
      },
      {
       "output_type": "stream",
       "stream": "stdout",
       "text": [
        " 0\n",
        "C00537308"
       ]
      },
      {
       "output_type": "stream",
       "stream": "stdout",
       "text": [
        " 0\n",
        "C00537316"
       ]
      },
      {
       "output_type": "stream",
       "stream": "stdout",
       "text": [
        " 0\n",
        "C00537324"
       ]
      },
      {
       "output_type": "stream",
       "stream": "stdout",
       "text": [
        " 0\n",
        "C00537332"
       ]
      },
      {
       "output_type": "stream",
       "stream": "stdout",
       "text": [
        " 0\n",
        "C00537340"
       ]
      },
      {
       "output_type": "stream",
       "stream": "stdout",
       "text": [
        " 0\n",
        "C00537357"
       ]
      },
      {
       "output_type": "stream",
       "stream": "stdout",
       "text": [
        " 0\n",
        "C00537365"
       ]
      },
      {
       "output_type": "stream",
       "stream": "stdout",
       "text": [
        " 0\n",
        "C00537373"
       ]
      },
      {
       "output_type": "stream",
       "stream": "stdout",
       "text": [
        " 0\n",
        "C00537381"
       ]
      },
      {
       "output_type": "stream",
       "stream": "stdout",
       "text": [
        " 0\n",
        "C00537399"
       ]
      },
      {
       "output_type": "stream",
       "stream": "stdout",
       "text": [
        " 0\n",
        "C00537407"
       ]
      },
      {
       "output_type": "stream",
       "stream": "stdout",
       "text": [
        " 0\n",
        "C00537415"
       ]
      },
      {
       "output_type": "stream",
       "stream": "stdout",
       "text": [
        " 0\n",
        "C00537423"
       ]
      },
      {
       "output_type": "stream",
       "stream": "stdout",
       "text": [
        " 0\n",
        "C00537431"
       ]
      },
      {
       "output_type": "stream",
       "stream": "stdout",
       "text": [
        " 0\n",
        "C00537449"
       ]
      },
      {
       "output_type": "stream",
       "stream": "stdout",
       "text": [
        " 0\n",
        "C00537456"
       ]
      },
      {
       "output_type": "stream",
       "stream": "stdout",
       "text": [
        " 0\n"
       ]
      },
      {
       "ename": "KeyboardInterrupt",
       "evalue": "",
       "output_type": "pyerr",
       "traceback": [
        "\u001b[1;31m---------------------------------------------------------------------------\u001b[0m\n\u001b[1;31mKeyboardInterrupt\u001b[0m                         Traceback (most recent call last)",
        "\u001b[1;32m<ipython-input-68-defa4efcf73e>\u001b[0m in \u001b[0;36m<module>\u001b[1;34m()\u001b[0m\n\u001b[0;32m      1\u001b[0m \u001b[1;32mfor\u001b[0m \u001b[0mpac_id\u001b[0m \u001b[1;32min\u001b[0m \u001b[0mpac_ids\u001b[0m\u001b[1;33m[\u001b[0m\u001b[1;33m:\u001b[0m\u001b[0mn_pacs\u001b[0m\u001b[1;33m]\u001b[0m\u001b[1;33m:\u001b[0m\u001b[1;33m\u001b[0m\u001b[0m\n\u001b[1;32m----> 2\u001b[1;33m     \u001b[0mn_chunk\u001b[0m \u001b[1;33m=\u001b[0m \u001b[0mlen\u001b[0m\u001b[1;33m(\u001b[0m\u001b[0mget_chunk_ids_by_pac\u001b[0m\u001b[1;33m(\u001b[0m\u001b[0mpac_id\u001b[0m\u001b[1;33m)\u001b[0m\u001b[1;33m)\u001b[0m\u001b[1;33m\u001b[0m\u001b[0m\n\u001b[0m\u001b[0;32m      3\u001b[0m     \u001b[1;32mprint\u001b[0m \u001b[0mpac_id\u001b[0m\u001b[1;33m,\u001b[0m \u001b[0mn_chunk\u001b[0m\u001b[1;33m\u001b[0m\u001b[0m\n\u001b[0;32m      4\u001b[0m     \u001b[0mresults\u001b[0m\u001b[1;33m.\u001b[0m\u001b[0mix\u001b[0m\u001b[1;33m[\u001b[0m\u001b[0mpac_id\u001b[0m\u001b[1;33m,\u001b[0m\u001b[1;34m'n_chunks'\u001b[0m\u001b[1;33m]\u001b[0m \u001b[1;33m=\u001b[0m \u001b[0mn_chunk\u001b[0m\u001b[1;33m\u001b[0m\u001b[0m\n\u001b[0;32m      5\u001b[0m \u001b[1;33m\u001b[0m\u001b[0m\n",
        "\u001b[1;32m/home/sam/KeywordInfluence/reports/token_freq_fns.py\u001b[0m in \u001b[0;36mget_chunk_ids_by_pac\u001b[1;34m(pac_id)\u001b[0m\n\u001b[0;32m    118\u001b[0m                             \u001b[0mON\u001b[0m \u001b[0mpac_contrib\u001b[0m\u001b[1;33m.\u001b[0m\u001b[0mfec_candidate_id\u001b[0m \u001b[1;33m=\u001b[0m\u001b[0;31m \u001b[0m\u001b[0;31m\\\u001b[0m\u001b[1;33m\u001b[0m\u001b[0m\n\u001b[0;32m    119\u001b[0m                                 \u001b[0mcongress\u001b[0m\u001b[1;33m.\u001b[0m\u001b[0mfec_id\u001b[0m\u001b[0;31m \u001b[0m\u001b[0;31m\\\u001b[0m\u001b[1;33m\u001b[0m\u001b[0m\n\u001b[1;32m--> 120\u001b[1;33m                             WHERE pac_id = '\" + pac_id + \"');\")\n\u001b[0m\u001b[0;32m    121\u001b[0m     \u001b[0msql_result\u001b[0m \u001b[1;33m=\u001b[0m \u001b[0mcursor\u001b[0m\u001b[1;33m.\u001b[0m\u001b[0mfetchall\u001b[0m\u001b[1;33m(\u001b[0m\u001b[1;33m)\u001b[0m\u001b[1;33m\u001b[0m\u001b[0m\n\u001b[0;32m    122\u001b[0m     \u001b[0mchunk_ids\u001b[0m \u001b[1;33m=\u001b[0m \u001b[0mmap\u001b[0m\u001b[1;33m(\u001b[0m\u001b[1;32mlambda\u001b[0m \u001b[0mx\u001b[0m\u001b[1;33m:\u001b[0m \u001b[0mx\u001b[0m\u001b[1;33m[\u001b[0m\u001b[1;36m0\u001b[0m\u001b[1;33m]\u001b[0m\u001b[1;33m,\u001b[0m \u001b[0msql_result\u001b[0m\u001b[1;33m)\u001b[0m\u001b[1;33m\u001b[0m\u001b[0m\n",
        "\u001b[1;32m<string>\u001b[0m in \u001b[0;36m__new__\u001b[1;34m(_cls, name, type_code, display_size, internal_size, precision, scale, null_ok)\u001b[0m\n",
        "\u001b[1;31mKeyboardInterrupt\u001b[0m: "
       ]
      }
     ],
     "prompt_number": 68
    },
    {
     "cell_type": "code",
     "collapsed": false,
     "input": [
      "for pac_id in pac_ids[:len(pac_ids)]:\n",
      "    diffs = compare_freq_pac(pac_id, congress_tokens = tokens_112)\n",
      "    if diffs is not None:\n",
      "        results.ix[pac_id,'congress'] = 112\n",
      "        results.ix[pac_id,'words'] = diffs[:10].to_json()"
     ],
     "language": "python",
     "metadata": {},
     "outputs": [
      {
       "ename": "KeyboardInterrupt",
       "evalue": "",
       "output_type": "pyerr",
       "traceback": [
        "\u001b[1;31m---------------------------------------------------------------------------\u001b[0m\n\u001b[1;31mKeyboardInterrupt\u001b[0m                         Traceback (most recent call last)",
        "\u001b[1;32m<ipython-input-81-a285f5e36c1d>\u001b[0m in \u001b[0;36m<module>\u001b[1;34m()\u001b[0m\n\u001b[0;32m      1\u001b[0m \u001b[1;32mfor\u001b[0m \u001b[0mpac_id\u001b[0m \u001b[1;32min\u001b[0m \u001b[0mpac_ids\u001b[0m\u001b[1;33m[\u001b[0m\u001b[1;33m:\u001b[0m\u001b[0mlen\u001b[0m\u001b[1;33m(\u001b[0m\u001b[0mpac_ids\u001b[0m\u001b[1;33m)\u001b[0m\u001b[1;33m]\u001b[0m\u001b[1;33m:\u001b[0m\u001b[1;33m\u001b[0m\u001b[0m\n\u001b[1;32m----> 2\u001b[1;33m     \u001b[0mdiffs\u001b[0m \u001b[1;33m=\u001b[0m \u001b[0mcompare_freq_pac\u001b[0m\u001b[1;33m(\u001b[0m\u001b[0mpac_id\u001b[0m\u001b[1;33m,\u001b[0m \u001b[0mcongress_tokens\u001b[0m \u001b[1;33m=\u001b[0m \u001b[0mtokens_112\u001b[0m\u001b[1;33m)\u001b[0m\u001b[1;33m\u001b[0m\u001b[0m\n\u001b[0m\u001b[0;32m      3\u001b[0m     \u001b[1;32mif\u001b[0m \u001b[0mdiffs\u001b[0m \u001b[1;32mis\u001b[0m \u001b[1;32mnot\u001b[0m \u001b[0mNone\u001b[0m\u001b[1;33m:\u001b[0m\u001b[1;33m\u001b[0m\u001b[0m\n\u001b[0;32m      4\u001b[0m         \u001b[0mresults\u001b[0m\u001b[1;33m.\u001b[0m\u001b[0mix\u001b[0m\u001b[1;33m[\u001b[0m\u001b[0mpac_id\u001b[0m\u001b[1;33m,\u001b[0m\u001b[1;34m'congress'\u001b[0m\u001b[1;33m]\u001b[0m \u001b[1;33m=\u001b[0m \u001b[1;36m112\u001b[0m\u001b[1;33m\u001b[0m\u001b[0m\n\u001b[0;32m      5\u001b[0m         \u001b[0mresults\u001b[0m\u001b[1;33m.\u001b[0m\u001b[0mix\u001b[0m\u001b[1;33m[\u001b[0m\u001b[0mpac_id\u001b[0m\u001b[1;33m,\u001b[0m\u001b[1;34m'words'\u001b[0m\u001b[1;33m]\u001b[0m \u001b[1;33m=\u001b[0m \u001b[0mdiffs\u001b[0m\u001b[1;33m[\u001b[0m\u001b[1;33m:\u001b[0m\u001b[1;36m10\u001b[0m\u001b[1;33m]\u001b[0m\u001b[1;33m.\u001b[0m\u001b[0mto_json\u001b[0m\u001b[1;33m(\u001b[0m\u001b[1;33m)\u001b[0m\u001b[1;33m\u001b[0m\u001b[0m\n",
        "\u001b[1;32m/home/sam/KeywordInfluence/reports/token_freq_fns.py\u001b[0m in \u001b[0;36mcompare_freq_pac\u001b[1;34m(pac_id, congress_tokens, smooth_constants)\u001b[0m\n\u001b[0;32m    177\u001b[0m     \u001b[0mresult\u001b[0m\u001b[1;33m[\u001b[0m\u001b[1;34m'sample_freq'\u001b[0m\u001b[1;33m]\u001b[0m   \u001b[1;33m=\u001b[0m \u001b[0msample_freqs\u001b[0m\u001b[1;33m\u001b[0m\u001b[0m\n\u001b[0;32m    178\u001b[0m     \u001b[0mresult\u001b[0m\u001b[1;33m[\u001b[0m\u001b[1;34m'global_freq'\u001b[0m\u001b[1;33m]\u001b[0m   \u001b[1;33m=\u001b[0m \u001b[0mglobal_freqs\u001b[0m\u001b[1;33m\u001b[0m\u001b[0m\n\u001b[1;32m--> 179\u001b[1;33m     \u001b[0mresult\u001b[0m\u001b[1;33m[\u001b[0m\u001b[1;34m'freq_ratio'\u001b[0m\u001b[1;33m]\u001b[0m    \u001b[1;33m=\u001b[0m \u001b[0mresult\u001b[0m\u001b[1;33m.\u001b[0m\u001b[0mapply\u001b[0m\u001b[1;33m(\u001b[0m\u001b[1;32mlambda\u001b[0m \u001b[0mrow\u001b[0m\u001b[1;33m:\u001b[0m \u001b[1;33m(\u001b[0m\u001b[0mrow\u001b[0m\u001b[1;33m[\u001b[0m\u001b[1;34m'sample_freq'\u001b[0m\u001b[1;33m]\u001b[0m\u001b[1;33m)\u001b[0m \u001b[1;33m/\u001b[0m \u001b[1;33m(\u001b[0m\u001b[0mrow\u001b[0m\u001b[1;33m[\u001b[0m\u001b[1;34m'global_freq'\u001b[0m\u001b[1;33m]\u001b[0m\u001b[1;33m)\u001b[0m\u001b[1;33m,\u001b[0m \u001b[0maxis\u001b[0m\u001b[1;33m=\u001b[0m\u001b[1;36m1\u001b[0m\u001b[1;33m)\u001b[0m\u001b[1;33m\u001b[0m\u001b[0m\n\u001b[0m\u001b[0;32m    180\u001b[0m     \u001b[1;31m#result['fratio_smooth'] = result.apply(lambda row: ((1.*row['sample_n'] + smooth_constants[0]) / \\\u001b[0m\u001b[1;33m\u001b[0m\u001b[1;33m\u001b[0m\u001b[0m\n\u001b[0;32m    181\u001b[0m     \u001b[1;31m#                                                    (1.*row['global_n'] + smooth_constants[1]))/ \\\u001b[0m\u001b[1;33m\u001b[0m\u001b[1;33m\u001b[0m\u001b[0m\n",
        "\u001b[1;32m/home/sam/local-python/2.7.6/py-init-env/lib/python2.7/site-packages/pandas/core/frame.pyc\u001b[0m in \u001b[0;36mapply\u001b[1;34m(self, func, axis, broadcast, raw, reduce, args, **kwds)\u001b[0m\n\u001b[0;32m   3362\u001b[0m                     \u001b[1;32mif\u001b[0m \u001b[0mreduce\u001b[0m \u001b[1;32mis\u001b[0m \u001b[0mNone\u001b[0m\u001b[1;33m:\u001b[0m\u001b[1;33m\u001b[0m\u001b[0m\n\u001b[0;32m   3363\u001b[0m                         \u001b[0mreduce\u001b[0m \u001b[1;33m=\u001b[0m \u001b[0mTrue\u001b[0m\u001b[1;33m\u001b[0m\u001b[0m\n\u001b[1;32m-> 3364\u001b[1;33m                     \u001b[1;32mreturn\u001b[0m \u001b[0mself\u001b[0m\u001b[1;33m.\u001b[0m\u001b[0m_apply_standard\u001b[0m\u001b[1;33m(\u001b[0m\u001b[0mf\u001b[0m\u001b[1;33m,\u001b[0m \u001b[0maxis\u001b[0m\u001b[1;33m,\u001b[0m \u001b[0mreduce\u001b[0m\u001b[1;33m=\u001b[0m\u001b[0mreduce\u001b[0m\u001b[1;33m)\u001b[0m\u001b[1;33m\u001b[0m\u001b[0m\n\u001b[0m\u001b[0;32m   3365\u001b[0m             \u001b[1;32melse\u001b[0m\u001b[1;33m:\u001b[0m\u001b[1;33m\u001b[0m\u001b[0m\n\u001b[0;32m   3366\u001b[0m                 \u001b[1;32mreturn\u001b[0m \u001b[0mself\u001b[0m\u001b[1;33m.\u001b[0m\u001b[0m_apply_broadcast\u001b[0m\u001b[1;33m(\u001b[0m\u001b[0mf\u001b[0m\u001b[1;33m,\u001b[0m \u001b[0maxis\u001b[0m\u001b[1;33m)\u001b[0m\u001b[1;33m\u001b[0m\u001b[0m\n",
        "\u001b[1;32m/home/sam/local-python/2.7.6/py-init-env/lib/python2.7/site-packages/pandas/core/frame.pyc\u001b[0m in \u001b[0;36m_apply_standard\u001b[1;34m(self, func, axis, ignore_failures, reduce)\u001b[0m\n\u001b[0;32m   3414\u001b[0m                 \u001b[0mlabels\u001b[0m \u001b[1;33m=\u001b[0m \u001b[0mself\u001b[0m\u001b[1;33m.\u001b[0m\u001b[0m_get_agg_axis\u001b[0m\u001b[1;33m(\u001b[0m\u001b[0maxis\u001b[0m\u001b[1;33m)\u001b[0m\u001b[1;33m\u001b[0m\u001b[0m\n\u001b[0;32m   3415\u001b[0m                 result = lib.reduce(values, func, axis=axis, dummy=dummy,\n\u001b[1;32m-> 3416\u001b[1;33m                                     labels=labels)\n\u001b[0m\u001b[0;32m   3417\u001b[0m                 \u001b[1;32mreturn\u001b[0m \u001b[0mSeries\u001b[0m\u001b[1;33m(\u001b[0m\u001b[0mresult\u001b[0m\u001b[1;33m,\u001b[0m \u001b[0mindex\u001b[0m\u001b[1;33m=\u001b[0m\u001b[0mlabels\u001b[0m\u001b[1;33m)\u001b[0m\u001b[1;33m\u001b[0m\u001b[0m\n\u001b[0;32m   3418\u001b[0m             \u001b[1;32mexcept\u001b[0m \u001b[0mException\u001b[0m\u001b[1;33m:\u001b[0m\u001b[1;33m\u001b[0m\u001b[0m\n",
        "\u001b[1;32m/home/sam/local-python/2.7.6/py-init-env/lib/python2.7/site-packages/pandas/lib.so\u001b[0m in \u001b[0;36mpandas.lib.reduce (pandas/lib.c:35562)\u001b[1;34m()\u001b[0m\n",
        "\u001b[1;32m/home/sam/local-python/2.7.6/py-init-env/lib/python2.7/site-packages/pandas/lib.so\u001b[0m in \u001b[0;36mpandas.lib.Reducer.get_result (pandas/lib.c:27066)\u001b[1;34m()\u001b[0m\n",
        "\u001b[1;32m/home/sam/KeywordInfluence/reports/token_freq_fns.py\u001b[0m in \u001b[0;36m<lambda>\u001b[1;34m(row)\u001b[0m\n\u001b[0;32m    177\u001b[0m     \u001b[0mresult\u001b[0m\u001b[1;33m[\u001b[0m\u001b[1;34m'sample_freq'\u001b[0m\u001b[1;33m]\u001b[0m   \u001b[1;33m=\u001b[0m \u001b[0msample_freqs\u001b[0m\u001b[1;33m\u001b[0m\u001b[0m\n\u001b[0;32m    178\u001b[0m     \u001b[0mresult\u001b[0m\u001b[1;33m[\u001b[0m\u001b[1;34m'global_freq'\u001b[0m\u001b[1;33m]\u001b[0m   \u001b[1;33m=\u001b[0m \u001b[0mglobal_freqs\u001b[0m\u001b[1;33m\u001b[0m\u001b[0m\n\u001b[1;32m--> 179\u001b[1;33m     \u001b[0mresult\u001b[0m\u001b[1;33m[\u001b[0m\u001b[1;34m'freq_ratio'\u001b[0m\u001b[1;33m]\u001b[0m    \u001b[1;33m=\u001b[0m \u001b[0mresult\u001b[0m\u001b[1;33m.\u001b[0m\u001b[0mapply\u001b[0m\u001b[1;33m(\u001b[0m\u001b[1;32mlambda\u001b[0m \u001b[0mrow\u001b[0m\u001b[1;33m:\u001b[0m \u001b[1;33m(\u001b[0m\u001b[0mrow\u001b[0m\u001b[1;33m[\u001b[0m\u001b[1;34m'sample_freq'\u001b[0m\u001b[1;33m]\u001b[0m\u001b[1;33m)\u001b[0m \u001b[1;33m/\u001b[0m \u001b[1;33m(\u001b[0m\u001b[0mrow\u001b[0m\u001b[1;33m[\u001b[0m\u001b[1;34m'global_freq'\u001b[0m\u001b[1;33m]\u001b[0m\u001b[1;33m)\u001b[0m\u001b[1;33m,\u001b[0m \u001b[0maxis\u001b[0m\u001b[1;33m=\u001b[0m\u001b[1;36m1\u001b[0m\u001b[1;33m)\u001b[0m\u001b[1;33m\u001b[0m\u001b[0m\n\u001b[0m\u001b[0;32m    180\u001b[0m     \u001b[1;31m#result['fratio_smooth'] = result.apply(lambda row: ((1.*row['sample_n'] + smooth_constants[0]) / \\\u001b[0m\u001b[1;33m\u001b[0m\u001b[1;33m\u001b[0m\u001b[0m\n\u001b[0;32m    181\u001b[0m     \u001b[1;31m#                                                    (1.*row['global_n'] + smooth_constants[1]))/ \\\u001b[0m\u001b[1;33m\u001b[0m\u001b[1;33m\u001b[0m\u001b[0m\n",
        "\u001b[1;32m/home/sam/local-python/2.7.6/py-init-env/lib/python2.7/site-packages/pandas/core/series.pyc\u001b[0m in \u001b[0;36m__getitem__\u001b[1;34m(self, key)\u001b[0m\n\u001b[0;32m    477\u001b[0m     \u001b[1;32mdef\u001b[0m \u001b[0m__getitem__\u001b[0m\u001b[1;33m(\u001b[0m\u001b[0mself\u001b[0m\u001b[1;33m,\u001b[0m \u001b[0mkey\u001b[0m\u001b[1;33m)\u001b[0m\u001b[1;33m:\u001b[0m\u001b[1;33m\u001b[0m\u001b[0m\n\u001b[0;32m    478\u001b[0m         \u001b[1;32mtry\u001b[0m\u001b[1;33m:\u001b[0m\u001b[1;33m\u001b[0m\u001b[0m\n\u001b[1;32m--> 479\u001b[1;33m             \u001b[0mresult\u001b[0m \u001b[1;33m=\u001b[0m \u001b[0mself\u001b[0m\u001b[1;33m.\u001b[0m\u001b[0mindex\u001b[0m\u001b[1;33m.\u001b[0m\u001b[0mget_value\u001b[0m\u001b[1;33m(\u001b[0m\u001b[0mself\u001b[0m\u001b[1;33m,\u001b[0m \u001b[0mkey\u001b[0m\u001b[1;33m)\u001b[0m\u001b[1;33m\u001b[0m\u001b[0m\n\u001b[0m\u001b[0;32m    480\u001b[0m \u001b[1;33m\u001b[0m\u001b[0m\n\u001b[0;32m    481\u001b[0m             \u001b[1;32mif\u001b[0m \u001b[1;32mnot\u001b[0m \u001b[0mnp\u001b[0m\u001b[1;33m.\u001b[0m\u001b[0misscalar\u001b[0m\u001b[1;33m(\u001b[0m\u001b[0mresult\u001b[0m\u001b[1;33m)\u001b[0m\u001b[1;33m:\u001b[0m\u001b[1;33m\u001b[0m\u001b[0m\n",
        "\u001b[1;32m/home/sam/local-python/2.7.6/py-init-env/lib/python2.7/site-packages/pandas/core/index.pyc\u001b[0m in \u001b[0;36mget_value\u001b[1;34m(self, series, key)\u001b[0m\n\u001b[0;32m   1165\u001b[0m \u001b[1;33m\u001b[0m\u001b[0m\n\u001b[0;32m   1166\u001b[0m         \u001b[1;31m# prevent integer truncation bug in indexing\u001b[0m\u001b[1;33m\u001b[0m\u001b[1;33m\u001b[0m\u001b[0m\n\u001b[1;32m-> 1167\u001b[1;33m         \u001b[1;32mif\u001b[0m \u001b[0mis_float\u001b[0m\u001b[1;33m(\u001b[0m\u001b[0mk\u001b[0m\u001b[1;33m)\u001b[0m \u001b[1;32mand\u001b[0m \u001b[1;32mnot\u001b[0m \u001b[0mself\u001b[0m\u001b[1;33m.\u001b[0m\u001b[0mis_floating\u001b[0m\u001b[1;33m(\u001b[0m\u001b[1;33m)\u001b[0m\u001b[1;33m:\u001b[0m\u001b[1;33m\u001b[0m\u001b[0m\n\u001b[0m\u001b[0;32m   1168\u001b[0m             \u001b[1;32mraise\u001b[0m \u001b[0mKeyError\u001b[0m\u001b[1;33m\u001b[0m\u001b[0m\n\u001b[0;32m   1169\u001b[0m \u001b[1;33m\u001b[0m\u001b[0m\n",
        "\u001b[1;31mKeyboardInterrupt\u001b[0m: "
       ]
      }
     ],
     "prompt_number": 81
    },
    {
     "cell_type": "code",
     "collapsed": false,
     "input": [
      "results"
     ],
     "language": "python",
     "metadata": {},
     "outputs": [
      {
       "html": [
        "<div style=\"max-height:1000px;max-width:1500px;overflow:auto;\">\n",
        "<table border=\"1\" class=\"dataframe\">\n",
        "  <thead>\n",
        "    <tr style=\"text-align: right;\">\n",
        "      <th></th>\n",
        "      <th>congress</th>\n",
        "      <th>n_chunks</th>\n",
        "      <th>words</th>\n",
        "    </tr>\n",
        "  </thead>\n",
        "  <tbody>\n",
        "    <tr>\n",
        "      <th>C00211524</th>\n",
        "      <td> 112</td>\n",
        "      <td> NaN</td>\n",
        "      <td> {\"ngram\":{\"3643\":\"scouting earned\",\"3386\":\"qua...</td>\n",
        "    </tr>\n",
        "    <tr>\n",
        "      <th>C00429688</th>\n",
        "      <td> 112</td>\n",
        "      <td> NaN</td>\n",
        "      <td> {\"ngram\":{\"3565\":\"rule xxi\",\"1600\":\"fiscal dis...</td>\n",
        "    </tr>\n",
        "    <tr>\n",
        "      <th>C00469395</th>\n",
        "      <td> 112</td>\n",
        "      <td> NaN</td>\n",
        "      <td> {\"ngram\":{\"3888\":\"state illinois\",\"2374\":\"let ...</td>\n",
        "    </tr>\n",
        "    <tr>\n",
        "      <th>C00275909</th>\n",
        "      <td> 112</td>\n",
        "      <td> NaN</td>\n",
        "      <td> {\"ngram\":{\"2803\":\"necessarily absent\",\"3296\":\"...</td>\n",
        "    </tr>\n",
        "    <tr>\n",
        "      <th>C00532564</th>\n",
        "      <td> 112</td>\n",
        "      <td> NaN</td>\n",
        "      <td> {\"ngram\":{\"3572\":\"rural america\",\"953\":\"commun...</td>\n",
        "    </tr>\n",
        "    <tr>\n",
        "      <th>C00325357</th>\n",
        "      <td> 112</td>\n",
        "      <td> NaN</td>\n",
        "      <td> {\"ngram\":{\"3643\":\"scouting earned\",\"3386\":\"qua...</td>\n",
        "    </tr>\n",
        "    <tr>\n",
        "      <th>C00529834</th>\n",
        "      <td> 112</td>\n",
        "      <td> NaN</td>\n",
        "      <td> {\"ngram\":{\"204\":\"able move\",\"2481\":\"loss life\"...</td>\n",
        "    </tr>\n",
        "    <tr>\n",
        "      <th>C00164244</th>\n",
        "      <td> 112</td>\n",
        "      <td> NaN</td>\n",
        "      <td> {\"ngram\":{\"1642\":\"fossil fuels\",\"260\":\"acting ...</td>\n",
        "    </tr>\n",
        "    <tr>\n",
        "      <th>C00074393</th>\n",
        "      <td> 112</td>\n",
        "      <td> NaN</td>\n",
        "      <td> {\"ngram\":{\"3874\":\"state alaska\",\"3909\":\"state ...</td>\n",
        "    </tr>\n",
        "    <tr>\n",
        "      <th>C00466870</th>\n",
        "      <td> 112</td>\n",
        "      <td> NaN</td>\n",
        "      <td> {\"ngram\":{\"1703\":\"get americans\",\"1664\":\"frien...</td>\n",
        "    </tr>\n",
        "    <tr>\n",
        "      <th>C00157875</th>\n",
        "      <td> NaN</td>\n",
        "      <td> NaN</td>\n",
        "      <td>                                               NaN</td>\n",
        "    </tr>\n",
        "    <tr>\n",
        "      <th>C00473249</th>\n",
        "      <td> NaN</td>\n",
        "      <td> NaN</td>\n",
        "      <td>                                               NaN</td>\n",
        "    </tr>\n",
        "    <tr>\n",
        "      <th>C00510461</th>\n",
        "      <td> NaN</td>\n",
        "      <td> NaN</td>\n",
        "      <td>                                               NaN</td>\n",
        "    </tr>\n",
        "    <tr>\n",
        "      <th>C00518191</th>\n",
        "      <td> NaN</td>\n",
        "      <td> NaN</td>\n",
        "      <td>                                               NaN</td>\n",
        "    </tr>\n",
        "    <tr>\n",
        "      <th>C00390831</th>\n",
        "      <td> NaN</td>\n",
        "      <td> NaN</td>\n",
        "      <td>                                               NaN</td>\n",
        "    </tr>\n",
        "    <tr>\n",
        "      <th>C00388132</th>\n",
        "      <td> NaN</td>\n",
        "      <td> NaN</td>\n",
        "      <td>                                               NaN</td>\n",
        "    </tr>\n",
        "    <tr>\n",
        "      <th>C00402875</th>\n",
        "      <td> NaN</td>\n",
        "      <td> NaN</td>\n",
        "      <td>                                               NaN</td>\n",
        "    </tr>\n",
        "    <tr>\n",
        "      <th>C00346726</th>\n",
        "      <td> NaN</td>\n",
        "      <td> NaN</td>\n",
        "      <td>                                               NaN</td>\n",
        "    </tr>\n",
        "    <tr>\n",
        "      <th>C90011412</th>\n",
        "      <td> NaN</td>\n",
        "      <td> NaN</td>\n",
        "      <td>                                               NaN</td>\n",
        "    </tr>\n",
        "    <tr>\n",
        "      <th>C00253047</th>\n",
        "      <td> NaN</td>\n",
        "      <td> NaN</td>\n",
        "      <td>                                               NaN</td>\n",
        "    </tr>\n",
        "    <tr>\n",
        "      <th>C00100289</th>\n",
        "      <td> NaN</td>\n",
        "      <td> NaN</td>\n",
        "      <td>                                               NaN</td>\n",
        "    </tr>\n",
        "    <tr>\n",
        "      <th>C00493551</th>\n",
        "      <td> NaN</td>\n",
        "      <td> NaN</td>\n",
        "      <td>                                               NaN</td>\n",
        "    </tr>\n",
        "    <tr>\n",
        "      <th>C00439265</th>\n",
        "      <td> NaN</td>\n",
        "      <td> NaN</td>\n",
        "      <td>                                               NaN</td>\n",
        "    </tr>\n",
        "    <tr>\n",
        "      <th>C00539601</th>\n",
        "      <td> NaN</td>\n",
        "      <td> NaN</td>\n",
        "      <td>                                               NaN</td>\n",
        "    </tr>\n",
        "    <tr>\n",
        "      <th>C90014465</th>\n",
        "      <td> NaN</td>\n",
        "      <td> NaN</td>\n",
        "      <td>                                               NaN</td>\n",
        "    </tr>\n",
        "    <tr>\n",
        "      <th>C00402628</th>\n",
        "      <td> NaN</td>\n",
        "      <td> NaN</td>\n",
        "      <td>                                               NaN</td>\n",
        "    </tr>\n",
        "    <tr>\n",
        "      <th>C00397208</th>\n",
        "      <td> NaN</td>\n",
        "      <td> NaN</td>\n",
        "      <td>                                               NaN</td>\n",
        "    </tr>\n",
        "    <tr>\n",
        "      <th>C00314997</th>\n",
        "      <td> NaN</td>\n",
        "      <td> NaN</td>\n",
        "      <td>                                               NaN</td>\n",
        "    </tr>\n",
        "    <tr>\n",
        "      <th>C00230482</th>\n",
        "      <td> NaN</td>\n",
        "      <td> NaN</td>\n",
        "      <td>                                               NaN</td>\n",
        "    </tr>\n",
        "    <tr>\n",
        "      <th>C00493247</th>\n",
        "      <td> NaN</td>\n",
        "      <td> NaN</td>\n",
        "      <td>                                               NaN</td>\n",
        "    </tr>\n",
        "    <tr>\n",
        "      <th>...</th>\n",
        "      <td>...</td>\n",
        "      <td>...</td>\n",
        "      <td>...</td>\n",
        "    </tr>\n",
        "    <tr>\n",
        "      <th>C00240911</th>\n",
        "      <td> NaN</td>\n",
        "      <td> NaN</td>\n",
        "      <td>                                               NaN</td>\n",
        "    </tr>\n",
        "    <tr>\n",
        "      <th>C00505297</th>\n",
        "      <td> NaN</td>\n",
        "      <td> NaN</td>\n",
        "      <td>                                               NaN</td>\n",
        "    </tr>\n",
        "    <tr>\n",
        "      <th>C70005731</th>\n",
        "      <td> NaN</td>\n",
        "      <td> NaN</td>\n",
        "      <td>                                               NaN</td>\n",
        "    </tr>\n",
        "    <tr>\n",
        "      <th>C00156554</th>\n",
        "      <td> NaN</td>\n",
        "      <td> NaN</td>\n",
        "      <td>                                               NaN</td>\n",
        "    </tr>\n",
        "    <tr>\n",
        "      <th>C00494112</th>\n",
        "      <td> NaN</td>\n",
        "      <td> NaN</td>\n",
        "      <td>                                               NaN</td>\n",
        "    </tr>\n",
        "    <tr>\n",
        "      <th>C00141747</th>\n",
        "      <td> NaN</td>\n",
        "      <td> NaN</td>\n",
        "      <td>                                               NaN</td>\n",
        "    </tr>\n",
        "    <tr>\n",
        "      <th>C00434142</th>\n",
        "      <td> NaN</td>\n",
        "      <td> NaN</td>\n",
        "      <td>                                               NaN</td>\n",
        "    </tr>\n",
        "    <tr>\n",
        "      <th>C00377010</th>\n",
        "      <td> NaN</td>\n",
        "      <td> NaN</td>\n",
        "      <td>                                               NaN</td>\n",
        "    </tr>\n",
        "    <tr>\n",
        "      <th>C00406546</th>\n",
        "      <td> NaN</td>\n",
        "      <td> NaN</td>\n",
        "      <td>                                               NaN</td>\n",
        "    </tr>\n",
        "    <tr>\n",
        "      <th>C00032797</th>\n",
        "      <td> NaN</td>\n",
        "      <td> NaN</td>\n",
        "      <td>                                               NaN</td>\n",
        "    </tr>\n",
        "    <tr>\n",
        "      <th>C00467688</th>\n",
        "      <td> NaN</td>\n",
        "      <td> NaN</td>\n",
        "      <td>                                               NaN</td>\n",
        "    </tr>\n",
        "    <tr>\n",
        "      <th>C00426601</th>\n",
        "      <td> NaN</td>\n",
        "      <td> NaN</td>\n",
        "      <td>                                               NaN</td>\n",
        "    </tr>\n",
        "    <tr>\n",
        "      <th>C00467233</th>\n",
        "      <td> NaN</td>\n",
        "      <td> NaN</td>\n",
        "      <td>                                               NaN</td>\n",
        "    </tr>\n",
        "    <tr>\n",
        "      <th>C00091561</th>\n",
        "      <td> NaN</td>\n",
        "      <td> NaN</td>\n",
        "      <td>                                               NaN</td>\n",
        "    </tr>\n",
        "    <tr>\n",
        "      <th>C00422980</th>\n",
        "      <td> NaN</td>\n",
        "      <td> NaN</td>\n",
        "      <td>                                               NaN</td>\n",
        "    </tr>\n",
        "    <tr>\n",
        "      <th>C00471334</th>\n",
        "      <td> NaN</td>\n",
        "      <td> NaN</td>\n",
        "      <td>                                               NaN</td>\n",
        "    </tr>\n",
        "    <tr>\n",
        "      <th>C00343749</th>\n",
        "      <td> NaN</td>\n",
        "      <td> NaN</td>\n",
        "      <td>                                               NaN</td>\n",
        "    </tr>\n",
        "    <tr>\n",
        "      <th>C00192906</th>\n",
        "      <td> NaN</td>\n",
        "      <td> NaN</td>\n",
        "      <td>                                               NaN</td>\n",
        "    </tr>\n",
        "    <tr>\n",
        "      <th>C00344770</th>\n",
        "      <td> NaN</td>\n",
        "      <td> NaN</td>\n",
        "      <td>                                               NaN</td>\n",
        "    </tr>\n",
        "    <tr>\n",
        "      <th>C00403998</th>\n",
        "      <td> NaN</td>\n",
        "      <td> NaN</td>\n",
        "      <td>                                               NaN</td>\n",
        "    </tr>\n",
        "    <tr>\n",
        "      <th>C00283101</th>\n",
        "      <td> NaN</td>\n",
        "      <td> NaN</td>\n",
        "      <td>                                               NaN</td>\n",
        "    </tr>\n",
        "    <tr>\n",
        "      <th>C00480384</th>\n",
        "      <td> NaN</td>\n",
        "      <td> NaN</td>\n",
        "      <td>                                               NaN</td>\n",
        "    </tr>\n",
        "    <tr>\n",
        "      <th>C00530766</th>\n",
        "      <td> NaN</td>\n",
        "      <td> NaN</td>\n",
        "      <td>                                               NaN</td>\n",
        "    </tr>\n",
        "    <tr>\n",
        "      <th>C00002089</th>\n",
        "      <td> NaN</td>\n",
        "      <td> NaN</td>\n",
        "      <td>                                               NaN</td>\n",
        "    </tr>\n",
        "    <tr>\n",
        "      <th>C00094896</th>\n",
        "      <td> NaN</td>\n",
        "      <td> NaN</td>\n",
        "      <td>                                               NaN</td>\n",
        "    </tr>\n",
        "    <tr>\n",
        "      <th>C00163212</th>\n",
        "      <td> NaN</td>\n",
        "      <td> NaN</td>\n",
        "      <td>                                               NaN</td>\n",
        "    </tr>\n",
        "    <tr>\n",
        "      <th>C70003538</th>\n",
        "      <td> NaN</td>\n",
        "      <td> NaN</td>\n",
        "      <td>                                               NaN</td>\n",
        "    </tr>\n",
        "    <tr>\n",
        "      <th>C00483115</th>\n",
        "      <td> NaN</td>\n",
        "      <td> NaN</td>\n",
        "      <td>                                               NaN</td>\n",
        "    </tr>\n",
        "    <tr>\n",
        "      <th>C00011197</th>\n",
        "      <td> NaN</td>\n",
        "      <td> NaN</td>\n",
        "      <td>                                               NaN</td>\n",
        "    </tr>\n",
        "    <tr>\n",
        "      <th>C00024281</th>\n",
        "      <td> NaN</td>\n",
        "      <td> NaN</td>\n",
        "      <td>                                               NaN</td>\n",
        "    </tr>\n",
        "  </tbody>\n",
        "</table>\n",
        "<p>5716 rows \u00d7 3 columns</p>\n",
        "</div>"
       ],
       "metadata": {},
       "output_type": "pyout",
       "prompt_number": 80,
       "text": [
        "          congress n_chunks                                              words\n",
        "C00211524      112      NaN  {\"ngram\":{\"3643\":\"scouting earned\",\"3386\":\"qua...\n",
        "C00429688      112      NaN  {\"ngram\":{\"3565\":\"rule xxi\",\"1600\":\"fiscal dis...\n",
        "C00469395      112      NaN  {\"ngram\":{\"3888\":\"state illinois\",\"2374\":\"let ...\n",
        "C00275909      112      NaN  {\"ngram\":{\"2803\":\"necessarily absent\",\"3296\":\"...\n",
        "C00532564      112      NaN  {\"ngram\":{\"3572\":\"rural america\",\"953\":\"commun...\n",
        "C00325357      112      NaN  {\"ngram\":{\"3643\":\"scouting earned\",\"3386\":\"qua...\n",
        "C00529834      112      NaN  {\"ngram\":{\"204\":\"able move\",\"2481\":\"loss life\"...\n",
        "C00164244      112      NaN  {\"ngram\":{\"1642\":\"fossil fuels\",\"260\":\"acting ...\n",
        "C00074393      112      NaN  {\"ngram\":{\"3874\":\"state alaska\",\"3909\":\"state ...\n",
        "C00466870      112      NaN  {\"ngram\":{\"1703\":\"get americans\",\"1664\":\"frien...\n",
        "C00157875      NaN      NaN                                                NaN\n",
        "C00473249      NaN      NaN                                                NaN\n",
        "C00510461      NaN      NaN                                                NaN\n",
        "C00518191      NaN      NaN                                                NaN\n",
        "C00390831      NaN      NaN                                                NaN\n",
        "C00388132      NaN      NaN                                                NaN\n",
        "C00402875      NaN      NaN                                                NaN\n",
        "C00346726      NaN      NaN                                                NaN\n",
        "C90011412      NaN      NaN                                                NaN\n",
        "C00253047      NaN      NaN                                                NaN\n",
        "C00100289      NaN      NaN                                                NaN\n",
        "C00493551      NaN      NaN                                                NaN\n",
        "C00439265      NaN      NaN                                                NaN\n",
        "C00539601      NaN      NaN                                                NaN\n",
        "C90014465      NaN      NaN                                                NaN\n",
        "C00402628      NaN      NaN                                                NaN\n",
        "C00397208      NaN      NaN                                                NaN\n",
        "C00314997      NaN      NaN                                                NaN\n",
        "C00230482      NaN      NaN                                                NaN\n",
        "C00493247      NaN      NaN                                                NaN\n",
        "...            ...      ...                                                ...\n",
        "C00240911      NaN      NaN                                                NaN\n",
        "C00505297      NaN      NaN                                                NaN\n",
        "C70005731      NaN      NaN                                                NaN\n",
        "C00156554      NaN      NaN                                                NaN\n",
        "C00494112      NaN      NaN                                                NaN\n",
        "C00141747      NaN      NaN                                                NaN\n",
        "C00434142      NaN      NaN                                                NaN\n",
        "C00377010      NaN      NaN                                                NaN\n",
        "C00406546      NaN      NaN                                                NaN\n",
        "C00032797      NaN      NaN                                                NaN\n",
        "C00467688      NaN      NaN                                                NaN\n",
        "C00426601      NaN      NaN                                                NaN\n",
        "C00467233      NaN      NaN                                                NaN\n",
        "C00091561      NaN      NaN                                                NaN\n",
        "C00422980      NaN      NaN                                                NaN\n",
        "C00471334      NaN      NaN                                                NaN\n",
        "C00343749      NaN      NaN                                                NaN\n",
        "C00192906      NaN      NaN                                                NaN\n",
        "C00344770      NaN      NaN                                                NaN\n",
        "C00403998      NaN      NaN                                                NaN\n",
        "C00283101      NaN      NaN                                                NaN\n",
        "C00480384      NaN      NaN                                                NaN\n",
        "C00530766      NaN      NaN                                                NaN\n",
        "C00002089      NaN      NaN                                                NaN\n",
        "C00094896      NaN      NaN                                                NaN\n",
        "C00163212      NaN      NaN                                                NaN\n",
        "C70003538      NaN      NaN                                                NaN\n",
        "C00483115      NaN      NaN                                                NaN\n",
        "C00011197      NaN      NaN                                                NaN\n",
        "C00024281      NaN      NaN                                                NaN\n",
        "\n",
        "[5716 rows x 3 columns]"
       ]
      }
     ],
     "prompt_number": 80
    },
    {
     "cell_type": "code",
     "collapsed": false,
     "input": [
      "compare_freq_pac('C00000125', congress_tokens = tokens_112)"
     ],
     "language": "python",
     "metadata": {},
     "outputs": [
      {
       "html": [
        "<div style=\"max-height:1000px;max-width:1500px;overflow:auto;\">\n",
        "<table border=\"1\" class=\"dataframe\">\n",
        "  <thead>\n",
        "    <tr style=\"text-align: right;\">\n",
        "      <th></th>\n",
        "      <th>ngram</th>\n",
        "      <th>freq_diff</th>\n",
        "      <th>sample_n</th>\n",
        "      <th>global_n</th>\n",
        "      <th>sample_freq</th>\n",
        "      <th>global_freq</th>\n",
        "      <th>freq_ratio</th>\n",
        "    </tr>\n",
        "  </thead>\n",
        "  <tbody>\n",
        "    <tr>\n",
        "      <th>0   </th>\n",
        "      <td>                 000 000</td>\n",
        "      <td> 0.075151</td>\n",
        "      <td> 304</td>\n",
        "      <td>  476</td>\n",
        "      <td> 0.075490</td>\n",
        "      <td> 0.000340</td>\n",
        "      <td> 222.343451</td>\n",
        "    </tr>\n",
        "    <tr>\n",
        "      <th>1605</th>\n",
        "      <td>             fiscal year</td>\n",
        "      <td> 0.047697</td>\n",
        "      <td> 199</td>\n",
        "      <td> 2411</td>\n",
        "      <td> 0.049416</td>\n",
        "      <td> 0.001720</td>\n",
        "      <td>  28.735157</td>\n",
        "    </tr>\n",
        "    <tr>\n",
        "      <th>2661</th>\n",
        "      <td>   military construction</td>\n",
        "      <td> 0.002612</td>\n",
        "      <td>  11</td>\n",
        "      <td>  167</td>\n",
        "      <td> 0.002732</td>\n",
        "      <td> 0.000119</td>\n",
        "      <td>  22.931577</td>\n",
        "    </tr>\n",
        "    <tr>\n",
        "      <th>4649</th>\n",
        "      <td>               year 2013</td>\n",
        "      <td> 0.004512</td>\n",
        "      <td>  19</td>\n",
        "      <td>  289</td>\n",
        "      <td> 0.004718</td>\n",
        "      <td> 0.000206</td>\n",
        "      <td>  22.888296</td>\n",
        "    </tr>\n",
        "    <tr>\n",
        "      <th>2615</th>\n",
        "      <td>         means committee</td>\n",
        "      <td> 0.003778</td>\n",
        "      <td>  16</td>\n",
        "      <td>  273</td>\n",
        "      <td> 0.003973</td>\n",
        "      <td> 0.000195</td>\n",
        "      <td>  20.403987</td>\n",
        "    </tr>\n",
        "    <tr>\n",
        "      <th>974 </th>\n",
        "      <td>   concurrent resolution</td>\n",
        "      <td> 0.002809</td>\n",
        "      <td>  12</td>\n",
        "      <td>  240</td>\n",
        "      <td> 0.002980</td>\n",
        "      <td> 0.000171</td>\n",
        "      <td>  17.407152</td>\n",
        "    </tr>\n",
        "    <tr>\n",
        "      <th>390 </th>\n",
        "      <td>         america economy</td>\n",
        "      <td> 0.001400</td>\n",
        "      <td>   6</td>\n",
        "      <td>  126</td>\n",
        "      <td> 0.001490</td>\n",
        "      <td> 0.000090</td>\n",
        "      <td>  16.578240</td>\n",
        "    </tr>\n",
        "    <tr>\n",
        "      <th>3762</th>\n",
        "      <td>               set forth</td>\n",
        "      <td> 0.002098</td>\n",
        "      <td>   9</td>\n",
        "      <td>  192</td>\n",
        "      <td> 0.002235</td>\n",
        "      <td> 0.000137</td>\n",
        "      <td>  16.319205</td>\n",
        "    </tr>\n",
        "    <tr>\n",
        "      <th>4590</th>\n",
        "      <td>           women uniform</td>\n",
        "      <td> 0.005823</td>\n",
        "      <td>  25</td>\n",
        "      <td>  540</td>\n",
        "      <td> 0.006208</td>\n",
        "      <td> 0.000385</td>\n",
        "      <td>  16.117733</td>\n",
        "    </tr>\n",
        "    <tr>\n",
        "      <th>2289</th>\n",
        "      <td>           language bill</td>\n",
        "      <td> 0.001397</td>\n",
        "      <td>   6</td>\n",
        "      <td>  131</td>\n",
        "      <td> 0.001490</td>\n",
        "      <td> 0.000093</td>\n",
        "      <td>  15.945482</td>\n",
        "    </tr>\n",
        "    <tr>\n",
        "      <th>2512</th>\n",
        "      <td>               made sure</td>\n",
        "      <td> 0.001628</td>\n",
        "      <td>   7</td>\n",
        "      <td>  154</td>\n",
        "      <td> 0.001738</td>\n",
        "      <td> 0.000110</td>\n",
        "      <td>  15.824683</td>\n",
        "    </tr>\n",
        "    <tr>\n",
        "      <th>3997</th>\n",
        "      <td>              taken care</td>\n",
        "      <td> 0.001860</td>\n",
        "      <td>   8</td>\n",
        "      <td>  177</td>\n",
        "      <td> 0.001987</td>\n",
        "      <td> 0.000126</td>\n",
        "      <td>  15.735278</td>\n",
        "    </tr>\n",
        "    <tr>\n",
        "      <th>4020</th>\n",
        "      <td>             tax dollars</td>\n",
        "      <td> 0.004646</td>\n",
        "      <td>  20</td>\n",
        "      <td>  449</td>\n",
        "      <td> 0.004966</td>\n",
        "      <td> 0.000320</td>\n",
        "      <td>  15.507485</td>\n",
        "    </tr>\n",
        "    <tr>\n",
        "      <th>4511</th>\n",
        "      <td>              ways means</td>\n",
        "      <td> 0.004181</td>\n",
        "      <td>  18</td>\n",
        "      <td>  405</td>\n",
        "      <td> 0.004470</td>\n",
        "      <td> 0.000289</td>\n",
        "      <td>  15.473024</td>\n",
        "    </tr>\n",
        "    <tr>\n",
        "      <th>2228</th>\n",
        "      <td>        joint resolution</td>\n",
        "      <td> 0.002319</td>\n",
        "      <td>  10</td>\n",
        "      <td>  230</td>\n",
        "      <td> 0.002483</td>\n",
        "      <td> 0.000164</td>\n",
        "      <td>  15.136654</td>\n",
        "    </tr>\n",
        "    <tr>\n",
        "      <th>4415</th>\n",
        "      <td>       vitally important</td>\n",
        "      <td> 0.001392</td>\n",
        "      <td>   6</td>\n",
        "      <td>  138</td>\n",
        "      <td> 0.001490</td>\n",
        "      <td> 0.000098</td>\n",
        "      <td>  15.136654</td>\n",
        "    </tr>\n",
        "    <tr>\n",
        "      <th>3806</th>\n",
        "      <td>         size government</td>\n",
        "      <td> 0.001157</td>\n",
        "      <td>   5</td>\n",
        "      <td>  119</td>\n",
        "      <td> 0.001242</td>\n",
        "      <td> 0.000085</td>\n",
        "      <td>  14.627859</td>\n",
        "    </tr>\n",
        "    <tr>\n",
        "      <th>4648</th>\n",
        "      <td>               year 2012</td>\n",
        "      <td> 0.006006</td>\n",
        "      <td>  26</td>\n",
        "      <td>  631</td>\n",
        "      <td> 0.006456</td>\n",
        "      <td> 0.000450</td>\n",
        "      <td>  14.345038</td>\n",
        "    </tr>\n",
        "    <tr>\n",
        "      <th>3418</th>\n",
        "      <td>              re working</td>\n",
        "      <td> 0.001150</td>\n",
        "      <td>   5</td>\n",
        "      <td>  128</td>\n",
        "      <td> 0.001242</td>\n",
        "      <td> 0.000091</td>\n",
        "      <td>  13.599337</td>\n",
        "    </tr>\n",
        "    <tr>\n",
        "      <th>386 </th>\n",
        "      <td>          amendment urge</td>\n",
        "      <td> 0.001372</td>\n",
        "      <td>   6</td>\n",
        "      <td>  165</td>\n",
        "      <td> 0.001490</td>\n",
        "      <td> 0.000118</td>\n",
        "      <td>  12.659747</td>\n",
        "    </tr>\n",
        "    <tr>\n",
        "      <th>3391</th>\n",
        "      <td>         quarter century</td>\n",
        "      <td> 0.001141</td>\n",
        "      <td>   5</td>\n",
        "      <td>  141</td>\n",
        "      <td> 0.001242</td>\n",
        "      <td> 0.000101</td>\n",
        "      <td>  12.345498</td>\n",
        "    </tr>\n",
        "    <tr>\n",
        "      <th>1715</th>\n",
        "      <td>          get government</td>\n",
        "      <td> 0.001140</td>\n",
        "      <td>   5</td>\n",
        "      <td>  142</td>\n",
        "      <td> 0.001242</td>\n",
        "      <td> 0.000101</td>\n",
        "      <td>  12.258558</td>\n",
        "    </tr>\n",
        "    <tr>\n",
        "      <th>2445</th>\n",
        "      <td>                  ll see</td>\n",
        "      <td> 0.000912</td>\n",
        "      <td>   4</td>\n",
        "      <td>  114</td>\n",
        "      <td> 0.000993</td>\n",
        "      <td> 0.000081</td>\n",
        "      <td>  12.215545</td>\n",
        "    </tr>\n",
        "    <tr>\n",
        "      <th>4405</th>\n",
        "      <td>                 ve made</td>\n",
        "      <td> 0.001135</td>\n",
        "      <td>   5</td>\n",
        "      <td>  149</td>\n",
        "      <td> 0.001242</td>\n",
        "      <td> 0.000106</td>\n",
        "      <td>  11.682652</td>\n",
        "    </tr>\n",
        "    <tr>\n",
        "      <th>417 </th>\n",
        "      <td>      american companies</td>\n",
        "      <td> 0.002495</td>\n",
        "      <td>  11</td>\n",
        "      <td>  331</td>\n",
        "      <td> 0.002732</td>\n",
        "      <td> 0.000236</td>\n",
        "      <td>  11.569708</td>\n",
        "    </tr>\n",
        "    <tr>\n",
        "      <th>2709</th>\n",
        "      <td>             money spend</td>\n",
        "      <td> 0.001352</td>\n",
        "      <td>   6</td>\n",
        "      <td>  193</td>\n",
        "      <td> 0.001490</td>\n",
        "      <td> 0.000138</td>\n",
        "      <td>  10.823100</td>\n",
        "    </tr>\n",
        "    <tr>\n",
        "      <th>3070</th>\n",
        "      <td>               paul ryan</td>\n",
        "      <td> 0.001573</td>\n",
        "      <td>   7</td>\n",
        "      <td>  231</td>\n",
        "      <td> 0.001738</td>\n",
        "      <td> 0.000165</td>\n",
        "      <td>  10.549789</td>\n",
        "    </tr>\n",
        "    <tr>\n",
        "      <th>220 </th>\n",
        "      <td> according congressional</td>\n",
        "      <td> 0.001123</td>\n",
        "      <td>   5</td>\n",
        "      <td>  166</td>\n",
        "      <td> 0.001242</td>\n",
        "      <td> 0.000118</td>\n",
        "      <td>  10.486236</td>\n",
        "    </tr>\n",
        "    <tr>\n",
        "      <th>3859</th>\n",
        "      <td>     spending reductions</td>\n",
        "      <td> 0.001347</td>\n",
        "      <td>   6</td>\n",
        "      <td>  201</td>\n",
        "      <td> 0.001490</td>\n",
        "      <td> 0.000143</td>\n",
        "      <td>  10.392329</td>\n",
        "    </tr>\n",
        "    <tr>\n",
        "      <th>1907</th>\n",
        "      <td>             gulf mexico</td>\n",
        "      <td> 0.003366</td>\n",
        "      <td>  15</td>\n",
        "      <td>  503</td>\n",
        "      <td> 0.003725</td>\n",
        "      <td> 0.000359</td>\n",
        "      <td>  10.381999</td>\n",
        "    </tr>\n",
        "    <tr>\n",
        "      <th>...</th>\n",
        "      <td>...</td>\n",
        "      <td>...</td>\n",
        "      <td>...</td>\n",
        "      <td>...</td>\n",
        "      <td>...</td>\n",
        "      <td>...</td>\n",
        "      <td>...</td>\n",
        "    </tr>\n",
        "    <tr>\n",
        "      <th>2211</th>\n",
        "      <td>              johnson jr</td>\n",
        "      <td>-0.000088</td>\n",
        "      <td>   0</td>\n",
        "      <td>  124</td>\n",
        "      <td> 0.000000</td>\n",
        "      <td> 0.000088</td>\n",
        "      <td>   0.000000</td>\n",
        "    </tr>\n",
        "    <tr>\n",
        "      <th>2179</th>\n",
        "      <td>            jobs country</td>\n",
        "      <td>-0.000269</td>\n",
        "      <td>   0</td>\n",
        "      <td>  377</td>\n",
        "      <td> 0.000000</td>\n",
        "      <td> 0.000269</td>\n",
        "      <td>   0.000000</td>\n",
        "    </tr>\n",
        "    <tr>\n",
        "      <th>394 </th>\n",
        "      <td>          america future</td>\n",
        "      <td>-0.000131</td>\n",
        "      <td>   0</td>\n",
        "      <td>  183</td>\n",
        "      <td> 0.000000</td>\n",
        "      <td> 0.000131</td>\n",
        "      <td>   0.000000</td>\n",
        "    </tr>\n",
        "    <tr>\n",
        "      <th>2142</th>\n",
        "      <td>       introducing today</td>\n",
        "      <td>-0.000103</td>\n",
        "      <td>   0</td>\n",
        "      <td>  145</td>\n",
        "      <td> 0.000000</td>\n",
        "      <td> 0.000103</td>\n",
        "      <td>   0.000000</td>\n",
        "    </tr>\n",
        "    <tr>\n",
        "      <th>2154</th>\n",
        "      <td>            january 2009</td>\n",
        "      <td>-0.000136</td>\n",
        "      <td>   0</td>\n",
        "      <td>  191</td>\n",
        "      <td> 0.000000</td>\n",
        "      <td> 0.000136</td>\n",
        "      <td>   0.000000</td>\n",
        "    </tr>\n",
        "    <tr>\n",
        "      <th>2143</th>\n",
        "      <td>             invents act</td>\n",
        "      <td>-0.000203</td>\n",
        "      <td>   0</td>\n",
        "      <td>  284</td>\n",
        "      <td> 0.000000</td>\n",
        "      <td> 0.000203</td>\n",
        "      <td>   0.000000</td>\n",
        "    </tr>\n",
        "    <tr>\n",
        "      <th>2144</th>\n",
        "      <td>          invoke cloture</td>\n",
        "      <td>-0.000141</td>\n",
        "      <td>   0</td>\n",
        "      <td>  197</td>\n",
        "      <td> 0.000000</td>\n",
        "      <td> 0.000141</td>\n",
        "      <td>   0.000000</td>\n",
        "    </tr>\n",
        "    <tr>\n",
        "      <th>2145</th>\n",
        "      <td>       involved scouting</td>\n",
        "      <td>-0.000081</td>\n",
        "      <td>   0</td>\n",
        "      <td>  113</td>\n",
        "      <td> 0.000000</td>\n",
        "      <td> 0.000081</td>\n",
        "      <td>   0.000000</td>\n",
        "    </tr>\n",
        "    <tr>\n",
        "      <th>2146</th>\n",
        "      <td>        iraq afghanistan</td>\n",
        "      <td>-0.000513</td>\n",
        "      <td>   0</td>\n",
        "      <td>  719</td>\n",
        "      <td> 0.000000</td>\n",
        "      <td> 0.000513</td>\n",
        "      <td>   0.000000</td>\n",
        "    </tr>\n",
        "    <tr>\n",
        "      <th>2147</th>\n",
        "      <td>           iraqi freedom</td>\n",
        "      <td>-0.000100</td>\n",
        "      <td>   0</td>\n",
        "      <td>  140</td>\n",
        "      <td> 0.000000</td>\n",
        "      <td> 0.000100</td>\n",
        "      <td>   0.000000</td>\n",
        "    </tr>\n",
        "    <tr>\n",
        "      <th>2148</th>\n",
        "      <td>               isn going</td>\n",
        "      <td>-0.000087</td>\n",
        "      <td>   0</td>\n",
        "      <td>  122</td>\n",
        "      <td> 0.000000</td>\n",
        "      <td> 0.000087</td>\n",
        "      <td>   0.000000</td>\n",
        "    </tr>\n",
        "    <tr>\n",
        "      <th>2149</th>\n",
        "      <td>         issue important</td>\n",
        "      <td>-0.000075</td>\n",
        "      <td>   0</td>\n",
        "      <td>  105</td>\n",
        "      <td> 0.000000</td>\n",
        "      <td> 0.000075</td>\n",
        "      <td>   0.000000</td>\n",
        "    </tr>\n",
        "    <tr>\n",
        "      <th>2150</th>\n",
        "      <td>             issue think</td>\n",
        "      <td>-0.000076</td>\n",
        "      <td>   0</td>\n",
        "      <td>  106</td>\n",
        "      <td> 0.000000</td>\n",
        "      <td> 0.000076</td>\n",
        "      <td>   0.000000</td>\n",
        "    </tr>\n",
        "    <tr>\n",
        "      <th>2151</th>\n",
        "      <td>           issues facing</td>\n",
        "      <td>-0.000113</td>\n",
        "      <td>   0</td>\n",
        "      <td>  159</td>\n",
        "      <td> 0.000000</td>\n",
        "      <td> 0.000113</td>\n",
        "      <td>   0.000000</td>\n",
        "    </tr>\n",
        "    <tr>\n",
        "      <th>2152</th>\n",
        "      <td>             jackson lee</td>\n",
        "      <td>-0.000117</td>\n",
        "      <td>   0</td>\n",
        "      <td>  164</td>\n",
        "      <td> 0.000000</td>\n",
        "      <td> 0.000117</td>\n",
        "      <td>   0.000000</td>\n",
        "    </tr>\n",
        "    <tr>\n",
        "      <th>2153</th>\n",
        "      <td>              january 20</td>\n",
        "      <td>-0.000082</td>\n",
        "      <td>   0</td>\n",
        "      <td>  115</td>\n",
        "      <td> 0.000000</td>\n",
        "      <td> 0.000082</td>\n",
        "      <td>   0.000000</td>\n",
        "    </tr>\n",
        "    <tr>\n",
        "      <th>2155</th>\n",
        "      <td>            january 2011</td>\n",
        "      <td>-0.000131</td>\n",
        "      <td>   0</td>\n",
        "      <td>  183</td>\n",
        "      <td> 0.000000</td>\n",
        "      <td> 0.000131</td>\n",
        "      <td>   0.000000</td>\n",
        "    </tr>\n",
        "    <tr>\n",
        "      <th>2174</th>\n",
        "      <td>          jobs americans</td>\n",
        "      <td>-0.000123</td>\n",
        "      <td>   0</td>\n",
        "      <td>  173</td>\n",
        "      <td> 0.000000</td>\n",
        "      <td> 0.000123</td>\n",
        "      <td>   0.000000</td>\n",
        "    </tr>\n",
        "    <tr>\n",
        "      <th>2156</th>\n",
        "      <td>       jersey recognized</td>\n",
        "      <td>-0.000086</td>\n",
        "      <td>   0</td>\n",
        "      <td>  120</td>\n",
        "      <td> 0.000000</td>\n",
        "      <td> 0.000086</td>\n",
        "      <td>   0.000000</td>\n",
        "    </tr>\n",
        "    <tr>\n",
        "      <th>400 </th>\n",
        "      <td>            america make</td>\n",
        "      <td>-0.000093</td>\n",
        "      <td>   0</td>\n",
        "      <td>  130</td>\n",
        "      <td> 0.000000</td>\n",
        "      <td> 0.000093</td>\n",
        "      <td>   0.000000</td>\n",
        "    </tr>\n",
        "    <tr>\n",
        "      <th>2159</th>\n",
        "      <td>             job creator</td>\n",
        "      <td>-0.000090</td>\n",
        "      <td>   0</td>\n",
        "      <td>  126</td>\n",
        "      <td> 0.000000</td>\n",
        "      <td> 0.000090</td>\n",
        "      <td>   0.000000</td>\n",
        "    </tr>\n",
        "    <tr>\n",
        "      <th>399 </th>\n",
        "      <td>             america let</td>\n",
        "      <td>-0.000085</td>\n",
        "      <td>   0</td>\n",
        "      <td>  119</td>\n",
        "      <td> 0.000000</td>\n",
        "      <td> 0.000085</td>\n",
        "      <td>   0.000000</td>\n",
        "    </tr>\n",
        "    <tr>\n",
        "      <th>2161</th>\n",
        "      <td>                job done</td>\n",
        "      <td>-0.000200</td>\n",
        "      <td>   0</td>\n",
        "      <td>  281</td>\n",
        "      <td> 0.000000</td>\n",
        "      <td> 0.000200</td>\n",
        "      <td>   0.000000</td>\n",
        "    </tr>\n",
        "    <tr>\n",
        "      <th>2164</th>\n",
        "      <td>                job loss</td>\n",
        "      <td>-0.000123</td>\n",
        "      <td>   0</td>\n",
        "      <td>  173</td>\n",
        "      <td> 0.000000</td>\n",
        "      <td> 0.000123</td>\n",
        "      <td>   0.000000</td>\n",
        "    </tr>\n",
        "    <tr>\n",
        "      <th>2165</th>\n",
        "      <td>              job losses</td>\n",
        "      <td>-0.000150</td>\n",
        "      <td>   0</td>\n",
        "      <td>  210</td>\n",
        "      <td> 0.000000</td>\n",
        "      <td> 0.000150</td>\n",
        "      <td>   0.000000</td>\n",
        "    </tr>\n",
        "    <tr>\n",
        "      <th>2167</th>\n",
        "      <td>            job training</td>\n",
        "      <td>-0.000273</td>\n",
        "      <td>   0</td>\n",
        "      <td>  383</td>\n",
        "      <td> 0.000000</td>\n",
        "      <td> 0.000273</td>\n",
        "      <td>   0.000000</td>\n",
        "    </tr>\n",
        "    <tr>\n",
        "      <th>397 </th>\n",
        "      <td>         america invents</td>\n",
        "      <td>-0.000195</td>\n",
        "      <td>   0</td>\n",
        "      <td>  273</td>\n",
        "      <td> 0.000000</td>\n",
        "      <td> 0.000195</td>\n",
        "      <td>   0.000000</td>\n",
        "    </tr>\n",
        "    <tr>\n",
        "      <th>2170</th>\n",
        "      <td>                jobs act</td>\n",
        "      <td>-0.000680</td>\n",
        "      <td>   0</td>\n",
        "      <td>  953</td>\n",
        "      <td> 0.000000</td>\n",
        "      <td> 0.000680</td>\n",
        "      <td>   0.000000</td>\n",
        "    </tr>\n",
        "    <tr>\n",
        "      <th>2173</th>\n",
        "      <td>           jobs american</td>\n",
        "      <td>-0.000173</td>\n",
        "      <td>   0</td>\n",
        "      <td>  242</td>\n",
        "      <td> 0.000000</td>\n",
        "      <td> 0.000173</td>\n",
        "      <td>   0.000000</td>\n",
        "    </tr>\n",
        "    <tr>\n",
        "      <th>4727</th>\n",
        "      <td>             youth award</td>\n",
        "      <td>-0.000253</td>\n",
        "      <td>   0</td>\n",
        "      <td>  355</td>\n",
        "      <td> 0.000000</td>\n",
        "      <td> 0.000253</td>\n",
        "      <td>   0.000000</td>\n",
        "    </tr>\n",
        "  </tbody>\n",
        "</table>\n",
        "<p>4728 rows \u00d7 7 columns</p>\n",
        "</div>"
       ],
       "metadata": {},
       "output_type": "pyout",
       "prompt_number": 69,
       "text": [
        "                        ngram  freq_diff  sample_n  global_n  sample_freq  \\\n",
        "0                     000 000   0.075151       304       476     0.075490   \n",
        "1605              fiscal year   0.047697       199      2411     0.049416   \n",
        "2661    military construction   0.002612        11       167     0.002732   \n",
        "4649                year 2013   0.004512        19       289     0.004718   \n",
        "2615          means committee   0.003778        16       273     0.003973   \n",
        "974     concurrent resolution   0.002809        12       240     0.002980   \n",
        "390           america economy   0.001400         6       126     0.001490   \n",
        "3762                set forth   0.002098         9       192     0.002235   \n",
        "4590            women uniform   0.005823        25       540     0.006208   \n",
        "2289            language bill   0.001397         6       131     0.001490   \n",
        "2512                made sure   0.001628         7       154     0.001738   \n",
        "3997               taken care   0.001860         8       177     0.001987   \n",
        "4020              tax dollars   0.004646        20       449     0.004966   \n",
        "4511               ways means   0.004181        18       405     0.004470   \n",
        "2228         joint resolution   0.002319        10       230     0.002483   \n",
        "4415        vitally important   0.001392         6       138     0.001490   \n",
        "3806          size government   0.001157         5       119     0.001242   \n",
        "4648                year 2012   0.006006        26       631     0.006456   \n",
        "3418               re working   0.001150         5       128     0.001242   \n",
        "386            amendment urge   0.001372         6       165     0.001490   \n",
        "3391          quarter century   0.001141         5       141     0.001242   \n",
        "1715           get government   0.001140         5       142     0.001242   \n",
        "2445                   ll see   0.000912         4       114     0.000993   \n",
        "4405                  ve made   0.001135         5       149     0.001242   \n",
        "417        american companies   0.002495        11       331     0.002732   \n",
        "2709              money spend   0.001352         6       193     0.001490   \n",
        "3070                paul ryan   0.001573         7       231     0.001738   \n",
        "220   according congressional   0.001123         5       166     0.001242   \n",
        "3859      spending reductions   0.001347         6       201     0.001490   \n",
        "1907              gulf mexico   0.003366        15       503     0.003725   \n",
        "...                       ...        ...       ...       ...          ...   \n",
        "2211               johnson jr  -0.000088         0       124     0.000000   \n",
        "2179             jobs country  -0.000269         0       377     0.000000   \n",
        "394            america future  -0.000131         0       183     0.000000   \n",
        "2142        introducing today  -0.000103         0       145     0.000000   \n",
        "2154             january 2009  -0.000136         0       191     0.000000   \n",
        "2143              invents act  -0.000203         0       284     0.000000   \n",
        "2144           invoke cloture  -0.000141         0       197     0.000000   \n",
        "2145        involved scouting  -0.000081         0       113     0.000000   \n",
        "2146         iraq afghanistan  -0.000513         0       719     0.000000   \n",
        "2147            iraqi freedom  -0.000100         0       140     0.000000   \n",
        "2148                isn going  -0.000087         0       122     0.000000   \n",
        "2149          issue important  -0.000075         0       105     0.000000   \n",
        "2150              issue think  -0.000076         0       106     0.000000   \n",
        "2151            issues facing  -0.000113         0       159     0.000000   \n",
        "2152              jackson lee  -0.000117         0       164     0.000000   \n",
        "2153               january 20  -0.000082         0       115     0.000000   \n",
        "2155             january 2011  -0.000131         0       183     0.000000   \n",
        "2174           jobs americans  -0.000123         0       173     0.000000   \n",
        "2156        jersey recognized  -0.000086         0       120     0.000000   \n",
        "400              america make  -0.000093         0       130     0.000000   \n",
        "2159              job creator  -0.000090         0       126     0.000000   \n",
        "399               america let  -0.000085         0       119     0.000000   \n",
        "2161                 job done  -0.000200         0       281     0.000000   \n",
        "2164                 job loss  -0.000123         0       173     0.000000   \n",
        "2165               job losses  -0.000150         0       210     0.000000   \n",
        "2167             job training  -0.000273         0       383     0.000000   \n",
        "397           america invents  -0.000195         0       273     0.000000   \n",
        "2170                 jobs act  -0.000680         0       953     0.000000   \n",
        "2173            jobs american  -0.000173         0       242     0.000000   \n",
        "4727              youth award  -0.000253         0       355     0.000000   \n",
        "\n",
        "      global_freq  freq_ratio  \n",
        "0        0.000340  222.343451  \n",
        "1605     0.001720   28.735157  \n",
        "2661     0.000119   22.931577  \n",
        "4649     0.000206   22.888296  \n",
        "2615     0.000195   20.403987  \n",
        "974      0.000171   17.407152  \n",
        "390      0.000090   16.578240  \n",
        "3762     0.000137   16.319205  \n",
        "4590     0.000385   16.117733  \n",
        "2289     0.000093   15.945482  \n",
        "2512     0.000110   15.824683  \n",
        "3997     0.000126   15.735278  \n",
        "4020     0.000320   15.507485  \n",
        "4511     0.000289   15.473024  \n",
        "2228     0.000164   15.136654  \n",
        "4415     0.000098   15.136654  \n",
        "3806     0.000085   14.627859  \n",
        "4648     0.000450   14.345038  \n",
        "3418     0.000091   13.599337  \n",
        "386      0.000118   12.659747  \n",
        "3391     0.000101   12.345498  \n",
        "1715     0.000101   12.258558  \n",
        "2445     0.000081   12.215545  \n",
        "4405     0.000106   11.682652  \n",
        "417      0.000236   11.569708  \n",
        "2709     0.000138   10.823100  \n",
        "3070     0.000165   10.549789  \n",
        "220      0.000118   10.486236  \n",
        "3859     0.000143   10.392329  \n",
        "1907     0.000359   10.381999  \n",
        "...           ...         ...  \n",
        "2211     0.000088    0.000000  \n",
        "2179     0.000269    0.000000  \n",
        "394      0.000131    0.000000  \n",
        "2142     0.000103    0.000000  \n",
        "2154     0.000136    0.000000  \n",
        "2143     0.000203    0.000000  \n",
        "2144     0.000141    0.000000  \n",
        "2145     0.000081    0.000000  \n",
        "2146     0.000513    0.000000  \n",
        "2147     0.000100    0.000000  \n",
        "2148     0.000087    0.000000  \n",
        "2149     0.000075    0.000000  \n",
        "2150     0.000076    0.000000  \n",
        "2151     0.000113    0.000000  \n",
        "2152     0.000117    0.000000  \n",
        "2153     0.000082    0.000000  \n",
        "2155     0.000131    0.000000  \n",
        "2174     0.000123    0.000000  \n",
        "2156     0.000086    0.000000  \n",
        "400      0.000093    0.000000  \n",
        "2159     0.000090    0.000000  \n",
        "399      0.000085    0.000000  \n",
        "2161     0.000200    0.000000  \n",
        "2164     0.000123    0.000000  \n",
        "2165     0.000150    0.000000  \n",
        "2167     0.000273    0.000000  \n",
        "397      0.000195    0.000000  \n",
        "2170     0.000680    0.000000  \n",
        "2173     0.000173    0.000000  \n",
        "4727     0.000253    0.000000  \n",
        "\n",
        "[4728 rows x 7 columns]"
       ]
      }
     ],
     "prompt_number": 69
    },
    {
     "cell_type": "code",
     "collapsed": false,
     "input": [
      "len(get_chunk_ids_by_pac('C00042002'))"
     ],
     "language": "python",
     "metadata": {},
     "outputs": [
      {
       "metadata": {},
       "output_type": "pyout",
       "prompt_number": 48,
       "text": [
        "223323"
       ]
      }
     ],
     "prompt_number": 48
    },
    {
     "cell_type": "code",
     "collapsed": false,
     "input": [],
     "language": "python",
     "metadata": {},
     "outputs": [
      {
       "html": [
        "<div style=\"max-height:1000px;max-width:1500px;overflow:auto;\">\n",
        "<table border=\"1\" class=\"dataframe\">\n",
        "  <thead>\n",
        "    <tr style=\"text-align: right;\">\n",
        "      <th></th>\n",
        "      <th>congress</th>\n",
        "      <th>words</th>\n",
        "    </tr>\n",
        "  </thead>\n",
        "  <tbody>\n",
        "    <tr>\n",
        "      <th>C00422527</th>\n",
        "      <td> 112</td>\n",
        "      <td> {\"ngram\":{\"3229\":\"please join\",\"3513\":\"reserve...</td>\n",
        "    </tr>\n",
        "  </tbody>\n",
        "</table>\n",
        "</div>"
       ],
       "metadata": {},
       "output_type": "pyout",
       "prompt_number": 28,
       "text": [
        "          congress                                              words\n",
        "C00422527      112  {\"ngram\":{\"3229\":\"please join\",\"3513\":\"reserve..."
       ]
      }
     ],
     "prompt_number": 28
    },
    {
     "cell_type": "code",
     "collapsed": false,
     "input": [],
     "language": "python",
     "metadata": {},
     "outputs": []
    }
   ],
   "metadata": {}
  }
 ]
}