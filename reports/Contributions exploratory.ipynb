{
 "metadata": {
  "name": "",
  "signature": "sha256:c845d42779e2db30c76e91d119400bccea0adb0aeb262188af15936a49bda039"
 },
 "nbformat": 3,
 "nbformat_minor": 0,
 "worksheets": [
  {
   "cells": [
    {
     "cell_type": "code",
     "collapsed": false,
     "input": [
      "import pandas as pd\n",
      "import numpy as np\n",
      "import matplotlib.pyplot as plt\n",
      "import csv"
     ],
     "language": "python",
     "metadata": {},
     "outputs": [
      {
       "output_type": "stream",
       "stream": "stderr",
       "text": [
        "/home/sam/local-python/2.7.6/py-init-env/lib/python2.7/site-packages/pandas/io/excel.py:626: UserWarning: Installed openpyxl is not supported at this time. Use >=1.6.1 and <2.0.0.\n",
        "  .format(openpyxl_compat.start_ver, openpyxl_compat.stop_ver))\n"
       ]
      }
     ],
     "prompt_number": 2
    },
    {
     "cell_type": "code",
     "collapsed": false,
     "input": [
      "#contribs = pd.read_csv(\"data/influence/contributions.fec.csv\")\n",
      "#contribs.columns\n",
      "\n",
      "\n",
      "r = csv.reader(open(\"data/influence/contributions.fec.csv\"))\n",
      "r1 = r.next()\n",
      "len(r1)"
     ],
     "language": "python",
     "metadata": {},
     "outputs": [
      {
       "metadata": {},
       "output_type": "pyout",
       "prompt_number": 6,
       "text": [
        "42"
       ]
      }
     ],
     "prompt_number": 6
    },
    {
     "cell_type": "code",
     "collapsed": false,
     "input": [
      "r1"
     ],
     "language": "python",
     "metadata": {},
     "outputs": [
      {
       "metadata": {},
       "output_type": "pyout",
       "prompt_number": 7,
       "text": [
        "['id',\n",
        " 'import_reference_id',\n",
        " 'cycle',\n",
        " 'transaction_namespace',\n",
        " 'transaction_id',\n",
        " 'transaction_type',\n",
        " 'filing_id',\n",
        " 'is_amendment',\n",
        " 'amount',\n",
        " 'date',\n",
        " 'contributor_name',\n",
        " 'contributor_ext_id',\n",
        " 'contributor_type',\n",
        " 'contributor_occupation',\n",
        " 'contributor_employer',\n",
        " 'contributor_gender',\n",
        " 'contributor_address',\n",
        " 'contributor_city',\n",
        " 'contributor_state',\n",
        " 'contributor_zipcode',\n",
        " 'contributor_category',\n",
        " 'organization_name',\n",
        " 'organization_ext_id',\n",
        " 'parent_organization_name',\n",
        " 'parent_organization_ext_id',\n",
        " 'recipient_name',\n",
        " 'recipient_ext_id',\n",
        " 'recipient_party',\n",
        " 'recipient_type',\n",
        " 'recipient_state',\n",
        " 'recipient_state_held',\n",
        " 'recipient_category',\n",
        " 'committee_name',\n",
        " 'committee_ext_id',\n",
        " 'committee_party',\n",
        " 'candidacy_status',\n",
        " 'district',\n",
        " 'district_held',\n",
        " 'seat',\n",
        " 'seat_held',\n",
        " 'seat_status',\n",
        " 'seat_result']"
       ]
      }
     ],
     "prompt_number": 7
    },
    {
     "cell_type": "code",
     "collapsed": false,
     "input": [
      "r.next()"
     ],
     "language": "python",
     "metadata": {},
     "outputs": [
      {
       "metadata": {},
       "output_type": "pyout",
       "prompt_number": 8,
       "text": [
        "['210382058',\n",
        " '746',\n",
        " '1994',\n",
        " 'urn:fec:transaction',\n",
        " 'indiv:1994:0874182',\n",
        " '15',\n",
        " '94039332423',\n",
        " 'f',\n",
        " '200.00',\n",
        " '1994-09-01',\n",
        " 'STEED, FRANK',\n",
        " 'c0190506834',\n",
        " 'I',\n",
        " 'METROMEDIA STEAKHOUSES',\n",
        " '',\n",
        " 'M',\n",
        " '',\n",
        " 'DALLAS',\n",
        " 'TX',\n",
        " '75230',\n",
        " 'G2900',\n",
        " 'Metromedia Steakhouses',\n",
        " '',\n",
        " '',\n",
        " '',\n",
        " 'Republican National Cmte',\n",
        " 'C00003418',\n",
        " 'R',\n",
        " 'C',\n",
        " '',\n",
        " '',\n",
        " 'Z5100',\n",
        " 'Republican National Cmte',\n",
        " 'C00003418',\n",
        " 'R',\n",
        " 'f',\n",
        " '',\n",
        " '',\n",
        " '',\n",
        " '',\n",
        " '',\n",
        " '']"
       ]
      }
     ],
     "prompt_number": 8
    },
    {
     "cell_type": "code",
     "collapsed": false,
     "input": [],
     "language": "python",
     "metadata": {},
     "outputs": []
    }
   ],
   "metadata": {}
  }
 ]
}